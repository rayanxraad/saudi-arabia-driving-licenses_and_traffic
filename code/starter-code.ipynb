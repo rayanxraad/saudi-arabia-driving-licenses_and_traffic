{
 "cells": [
  {
   "cell_type": "markdown",
   "metadata": {},
   "source": [
    "# Project 1: Driving Licenses, Traffic Accidents and Casualties Analysis"
   ]
  },
  {
   "cell_type": "markdown",
   "metadata": {},
   "source": [
    "## Problem Statment\n",
    "\n",
    "Craft your problem statement here using the prompt from the README and other sources you find during your investigation."
   ]
  },
  {
   "cell_type": "markdown",
   "metadata": {},
   "source": []
  },
  {
   "cell_type": "markdown",
   "metadata": {},
   "source": [
    "## Executive Summary\n",
    "Write an executive summary that summarizes the problem and your key findings."
   ]
  },
  {
   "cell_type": "markdown",
   "metadata": {},
   "source": []
  },
  {
   "cell_type": "markdown",
   "metadata": {},
   "source": [
    "### Contents:\n",
    "- [Datasets Description](#Datasets-Description)\n",
    "- [Data Import & Cleaning](#Data-Import-and-Cleaning)\n",
    "- [Exploratory Data Analysis](#Exploratory-Data-Analysis)\n",
    "- [Data Visualization](#Visualize-the-data)\n",
    "- [Descriptive and Inferential Statistics](#Descriptive-and-Inferential-Statistics)\n",
    "- [Outside Research](#Outside-Research)\n",
    "- [Conclusions and Recommendations](#Conclusions-and-Recommendations)"
   ]
  },
  {
   "cell_type": "markdown",
   "metadata": {},
   "source": [
    "**If you combine your problem statement, executive summary, data dictionary, and conclusions/recommendations, you have an amazing README.md file that quickly aligns your audience to the contents of your project.** Don't forget to cite your data sources!"
   ]
  },
  {
   "cell_type": "markdown",
   "metadata": {},
   "source": [
    "*All libraries used should be added here, including any Jupyter magic commands*"
   ]
  },
  {
   "cell_type": "code",
   "execution_count": 1,
   "metadata": {},
   "outputs": [],
   "source": [
    "#Imports\n",
    "import numpy as np\n",
    "import pandas as pd\n",
    "\n",
    "import matplotlib.pyplot as plt\n",
    "import seaborn as sns"
   ]
  },
  {
   "cell_type": "markdown",
   "metadata": {},
   "source": [
    "## Datasets Description\n",
    "\n",
    "[Driving Licenses](https://datasource.kapsarc.org/explore/dataset/saudi-arabia-driving-licenses-issued-in-the-kingdom-2004-2008/information/?disjunctive.administritive_area&sort=time_period&location=5,24.37495,45.08024&basemap=jawg.streets)\n",
    "This dataset contains Saudi Arabia Driving Licenses Issued By Administrative Area for 1993 - 2016. Data from General Authority for Statistics . Follow datasource.kapsarc.org for timely data to advance energy economics research.\n",
    "\n",
    "[Traffic Accidents and Casualties](https://datasource.kapsarc.org/explore/dataset/saudi-arabia-traffic-accidents-and-casualties-injured-dead-2008/export/?disjunctive.region&disjunctive.indicator&sort=time_period)\n",
    "This dataset contains Saudi Arabia Traffic Accidents and Casualties by Region for 2016. Data from General Authority for Statistics. Follow datasource.kapsarc.org for timely data to advance energy economics research.\n"
   ]
  },
  {
   "cell_type": "markdown",
   "metadata": {},
   "source": [
    "## Data Import and Cleaning"
   ]
  },
  {
   "cell_type": "markdown",
   "metadata": {},
   "source": [
    "#### 1. Read In Driving Licenses & Traffic Accidents Data\n",
    "Read in the `saudi-arabia-traffic-accidents-2008.csv` and `saudi-arabia-driving-licenses-2004-2008.csv` files and assign them to appropriately named pandas dataframes."
   ]
  },
  {
   "cell_type": "code",
   "execution_count": 2,
   "metadata": {},
   "outputs": [],
   "source": [
    "#Code\n",
    "# useing  delimiter=';' to split a string with multiple delimiters.\n",
    "tracc8=pd.read_csv(\"../data/saudi-arabia-traffic-accidents-2008.csv\",delimiter=';')\n",
    "drili4_8=pd.read_csv(\"../data/saudi-arabia-driving-licenses-2004-2008.csv\",delimiter=';')"
   ]
  },
  {
   "cell_type": "markdown",
   "metadata": {},
   "source": [
    "#### 2. Display data\n",
    "\n",
    "Print the first 10 rows of each dataframe to your jupyter notebook"
   ]
  },
  {
   "cell_type": "code",
   "execution_count": 3,
   "metadata": {
    "scrolled": false
   },
   "outputs": [
    {
     "data": {
      "text/html": [
       "<div>\n",
       "<style scoped>\n",
       "    .dataframe tbody tr th:only-of-type {\n",
       "        vertical-align: middle;\n",
       "    }\n",
       "\n",
       "    .dataframe tbody tr th {\n",
       "        vertical-align: top;\n",
       "    }\n",
       "\n",
       "    .dataframe thead th {\n",
       "        text-align: right;\n",
       "    }\n",
       "</style>\n",
       "<table border=\"1\" class=\"dataframe\">\n",
       "  <thead>\n",
       "    <tr style=\"text-align: right;\">\n",
       "      <th></th>\n",
       "      <th>Unnamed: 0</th>\n",
       "      <th>Unnamed: 0.1</th>\n",
       "      <th>Year</th>\n",
       "      <th>Region</th>\n",
       "      <th>Indicator</th>\n",
       "      <th>Value</th>\n",
       "      <th>geo_point_2d</th>\n",
       "    </tr>\n",
       "  </thead>\n",
       "  <tbody>\n",
       "    <tr>\n",
       "      <th>0</th>\n",
       "      <td>0</td>\n",
       "      <td>0</td>\n",
       "      <td>(2016)</td>\n",
       "      <td>Makkah</td>\n",
       "      <td>No. of Casualties - Injured</td>\n",
       "      <td>12383n</td>\n",
       "      <td>21.628962766, 41.2636898334</td>\n",
       "    </tr>\n",
       "    <tr>\n",
       "      <th>1</th>\n",
       "      <td>1</td>\n",
       "      <td>1</td>\n",
       "      <td>(2016)</td>\n",
       "      <td>Eastern Region</td>\n",
       "      <td>No. of Casualties - Dead</td>\n",
       "      <td>1113n</td>\n",
       "      <td>23.2883307307, 50.1478302439</td>\n",
       "    </tr>\n",
       "    <tr>\n",
       "      <th>2</th>\n",
       "      <td>2</td>\n",
       "      <td>2</td>\n",
       "      <td>(2016)</td>\n",
       "      <td>Tabouk</td>\n",
       "      <td>No. of Casualties - Dead</td>\n",
       "      <td>434n</td>\n",
       "      <td>27.90165499, 37.2598581394</td>\n",
       "    </tr>\n",
       "    <tr>\n",
       "      <th>3</th>\n",
       "      <td>3</td>\n",
       "      <td>3</td>\n",
       "      <td>(2016)</td>\n",
       "      <td>Hail</td>\n",
       "      <td>No. of Casualties - Dead</td>\n",
       "      <td>299n</td>\n",
       "      <td>27.400845724, 41.4406960508</td>\n",
       "    </tr>\n",
       "    <tr>\n",
       "      <th>4</th>\n",
       "      <td>4</td>\n",
       "      <td>4</td>\n",
       "      <td>(2016)</td>\n",
       "      <td>Hail</td>\n",
       "      <td>No. of Accidents</td>\n",
       "      <td>10199n</td>\n",
       "      <td>27.400845724, 41.4406960508</td>\n",
       "    </tr>\n",
       "    <tr>\n",
       "      <th>5</th>\n",
       "      <td>5</td>\n",
       "      <td>5</td>\n",
       "      <td>(2016)</td>\n",
       "      <td>Northern Boarder</td>\n",
       "      <td>No. of Casualties - Dead</td>\n",
       "      <td>193n</td>\n",
       "      <td>30.197074783, 41.8171186952</td>\n",
       "    </tr>\n",
       "    <tr>\n",
       "      <th>6</th>\n",
       "      <td>6</td>\n",
       "      <td>6</td>\n",
       "      <td>(2017)</td>\n",
       "      <td>Jazan</td>\n",
       "      <td>No. of Accidents</td>\n",
       "      <td>22161n</td>\n",
       "      <td>17.2072313962, 42.6525807422</td>\n",
       "    </tr>\n",
       "    <tr>\n",
       "      <th>7</th>\n",
       "      <td>7</td>\n",
       "      <td>7</td>\n",
       "      <td>(2017)</td>\n",
       "      <td>Al-Jouf</td>\n",
       "      <td>No. of Accidents</td>\n",
       "      <td>10469n</td>\n",
       "      <td>29.9677445762, 39.5570371172</td>\n",
       "    </tr>\n",
       "    <tr>\n",
       "      <th>8</th>\n",
       "      <td>8</td>\n",
       "      <td>8</td>\n",
       "      <td>(2017)</td>\n",
       "      <td>Total</td>\n",
       "      <td>No. of Casualties - Dead</td>\n",
       "      <td>7489n</td>\n",
       "      <td>NaN</td>\n",
       "    </tr>\n",
       "    <tr>\n",
       "      <th>9</th>\n",
       "      <td>9</td>\n",
       "      <td>9</td>\n",
       "      <td>(2016)</td>\n",
       "      <td>Northern Boarder</td>\n",
       "      <td>No. of Casualties - Injured</td>\n",
       "      <td>631n</td>\n",
       "      <td>30.197074783, 41.8171186952</td>\n",
       "    </tr>\n",
       "  </tbody>\n",
       "</table>\n",
       "</div>"
      ],
      "text/plain": [
       "   Unnamed: 0  Unnamed: 0.1    Year            Region  \\\n",
       "0           0             0  (2016)            Makkah   \n",
       "1           1             1  (2016)    Eastern Region   \n",
       "2           2             2  (2016)            Tabouk   \n",
       "3           3             3  (2016)              Hail   \n",
       "4           4             4  (2016)              Hail   \n",
       "5           5             5  (2016)  Northern Boarder   \n",
       "6           6             6  (2017)             Jazan   \n",
       "7           7             7  (2017)           Al-Jouf   \n",
       "8           8             8  (2017)             Total   \n",
       "9           9             9  (2016)  Northern Boarder   \n",
       "\n",
       "                     Indicator   Value                  geo_point_2d  \n",
       "0  No. of Casualties - Injured  12383n   21.628962766, 41.2636898334  \n",
       "1     No. of Casualties - Dead   1113n  23.2883307307, 50.1478302439  \n",
       "2     No. of Casualties - Dead    434n    27.90165499, 37.2598581394  \n",
       "3     No. of Casualties - Dead    299n   27.400845724, 41.4406960508  \n",
       "4             No. of Accidents  10199n   27.400845724, 41.4406960508  \n",
       "5     No. of Casualties - Dead    193n   30.197074783, 41.8171186952  \n",
       "6             No. of Accidents  22161n  17.2072313962, 42.6525807422  \n",
       "7             No. of Accidents  10469n  29.9677445762, 39.5570371172  \n",
       "8     No. of Casualties - Dead   7489n                           NaN  \n",
       "9  No. of Casualties - Injured    631n   30.197074783, 41.8171186952  "
      ]
     },
     "execution_count": 3,
     "metadata": {},
     "output_type": "execute_result"
    }
   ],
   "source": [
    "#Code\n",
    "tracc8.head(10)"
   ]
  },
  {
   "cell_type": "code",
   "execution_count": 4,
   "metadata": {},
   "outputs": [
    {
     "data": {
      "text/html": [
       "<div>\n",
       "<style scoped>\n",
       "    .dataframe tbody tr th:only-of-type {\n",
       "        vertical-align: middle;\n",
       "    }\n",
       "\n",
       "    .dataframe tbody tr th {\n",
       "        vertical-align: top;\n",
       "    }\n",
       "\n",
       "    .dataframe thead th {\n",
       "        text-align: right;\n",
       "    }\n",
       "</style>\n",
       "<table border=\"1\" class=\"dataframe\">\n",
       "  <thead>\n",
       "    <tr style=\"text-align: right;\">\n",
       "      <th></th>\n",
       "      <th>Unnamed: 0</th>\n",
       "      <th>Year</th>\n",
       "      <th>Administritive Area</th>\n",
       "      <th>Driving Liceses</th>\n",
       "      <th>geo_point_2d</th>\n",
       "    </tr>\n",
       "  </thead>\n",
       "  <tbody>\n",
       "    <tr>\n",
       "      <th>0</th>\n",
       "      <td>0</td>\n",
       "      <td>(2012)</td>\n",
       "      <td>Makkah</td>\n",
       "      <td>143954n</td>\n",
       "      <td>21.628962766, 41.2636898334</td>\n",
       "    </tr>\n",
       "    <tr>\n",
       "      <th>1</th>\n",
       "      <td>1</td>\n",
       "      <td>(1994)</td>\n",
       "      <td>Makkah</td>\n",
       "      <td>75349n</td>\n",
       "      <td>21.628962766, 41.2636898334</td>\n",
       "    </tr>\n",
       "    <tr>\n",
       "      <th>2</th>\n",
       "      <td>2</td>\n",
       "      <td>(1998)</td>\n",
       "      <td>Makkah</td>\n",
       "      <td>86082n</td>\n",
       "      <td>21.628962766, 41.2636898334</td>\n",
       "    </tr>\n",
       "    <tr>\n",
       "      <th>3</th>\n",
       "      <td>3</td>\n",
       "      <td>(2004)</td>\n",
       "      <td>Makkah</td>\n",
       "      <td>86636n</td>\n",
       "      <td>21.628962766, 41.2636898334</td>\n",
       "    </tr>\n",
       "    <tr>\n",
       "      <th>4</th>\n",
       "      <td>4</td>\n",
       "      <td>(2005)</td>\n",
       "      <td>Makkah</td>\n",
       "      <td>65099n</td>\n",
       "      <td>21.628962766, 41.2636898334</td>\n",
       "    </tr>\n",
       "    <tr>\n",
       "      <th>5</th>\n",
       "      <td>5</td>\n",
       "      <td>(2008)</td>\n",
       "      <td>Makkah</td>\n",
       "      <td>77013n</td>\n",
       "      <td>21.628962766, 41.2636898334</td>\n",
       "    </tr>\n",
       "    <tr>\n",
       "      <th>6</th>\n",
       "      <td>6</td>\n",
       "      <td>(2014)</td>\n",
       "      <td>Madinah</td>\n",
       "      <td>31447n</td>\n",
       "      <td>24.927534539, 39.4918237173</td>\n",
       "    </tr>\n",
       "    <tr>\n",
       "      <th>7</th>\n",
       "      <td>7</td>\n",
       "      <td>(2013)</td>\n",
       "      <td>Madinah</td>\n",
       "      <td>28513n</td>\n",
       "      <td>24.927534539, 39.4918237173</td>\n",
       "    </tr>\n",
       "    <tr>\n",
       "      <th>8</th>\n",
       "      <td>8</td>\n",
       "      <td>(2012)</td>\n",
       "      <td>Madinah</td>\n",
       "      <td>14459n</td>\n",
       "      <td>24.927534539, 39.4918237173</td>\n",
       "    </tr>\n",
       "    <tr>\n",
       "      <th>9</th>\n",
       "      <td>9</td>\n",
       "      <td>(1994)</td>\n",
       "      <td>Madinah</td>\n",
       "      <td>3767n</td>\n",
       "      <td>24.927534539, 39.4918237173</td>\n",
       "    </tr>\n",
       "  </tbody>\n",
       "</table>\n",
       "</div>"
      ],
      "text/plain": [
       "   Unnamed: 0    Year Administritive Area Driving Liceses  \\\n",
       "0           0  (2012)              Makkah         143954n   \n",
       "1           1  (1994)              Makkah          75349n   \n",
       "2           2  (1998)              Makkah          86082n   \n",
       "3           3  (2004)              Makkah          86636n   \n",
       "4           4  (2005)              Makkah          65099n   \n",
       "5           5  (2008)              Makkah          77013n   \n",
       "6           6  (2014)             Madinah          31447n   \n",
       "7           7  (2013)             Madinah          28513n   \n",
       "8           8  (2012)             Madinah          14459n   \n",
       "9           9  (1994)             Madinah           3767n   \n",
       "\n",
       "                  geo_point_2d  \n",
       "0  21.628962766, 41.2636898334  \n",
       "1  21.628962766, 41.2636898334  \n",
       "2  21.628962766, 41.2636898334  \n",
       "3  21.628962766, 41.2636898334  \n",
       "4  21.628962766, 41.2636898334  \n",
       "5  21.628962766, 41.2636898334  \n",
       "6  24.927534539, 39.4918237173  \n",
       "7  24.927534539, 39.4918237173  \n",
       "8  24.927534539, 39.4918237173  \n",
       "9  24.927534539, 39.4918237173  "
      ]
     },
     "execution_count": 4,
     "metadata": {},
     "output_type": "execute_result"
    }
   ],
   "source": [
    "drili4_8.head(10)"
   ]
  },
  {
   "cell_type": "markdown",
   "metadata": {},
   "source": [
    "#### 3. Briefly describe the data\n",
    "\n",
    "Take your time looking through the data and briefly describe the data in the markdown cell below. Note things about what the columns might mean, and the general information that is conveyed in the dataframe."
   ]
  },
  {
   "cell_type": "markdown",
   "metadata": {},
   "source": [
    "### -Traffic_accidents_2008\n",
    "##### 1- dataset shoe the where the accdent happened ,the year , the Region and how many \n",
    "##### 2-  dataset show the Indicator of (dead ,Injured and no accidents )\n",
    "\n",
    "### -Driving_licenses_2004-2008\n",
    "##### 1- dataset show that the number of driving lincense has increases by the year\n",
    "##### 2-  dataset show where the increases has happened  (Region)"
   ]
  },
  {
   "cell_type": "markdown",
   "metadata": {},
   "source": [
    "#### 4a. How complete is the data?\n",
    "\n",
    "Investigate missing values etc."
   ]
  },
  {
   "cell_type": "code",
   "execution_count": 5,
   "metadata": {},
   "outputs": [
    {
     "data": {
      "text/plain": [
       "Unnamed: 0      0\n",
       "Unnamed: 0.1    0\n",
       "Year            0\n",
       "Region          0\n",
       "Indicator       0\n",
       "Value           0\n",
       "geo_point_2d    6\n",
       "dtype: int64"
      ]
     },
     "execution_count": 5,
     "metadata": {},
     "output_type": "execute_result"
    }
   ],
   "source": [
    "#Code\n",
    "tracc8.isnull().sum() # to find the null"
   ]
  },
  {
   "cell_type": "code",
   "execution_count": 6,
   "metadata": {},
   "outputs": [
    {
     "data": {
      "text/plain": [
       "Unnamed: 0              0\n",
       "Year                    0\n",
       "Administritive Area     0\n",
       "Driving Liceses         0\n",
       "geo_point_2d           25\n",
       "dtype: int64"
      ]
     },
     "execution_count": 6,
     "metadata": {},
     "output_type": "execute_result"
    }
   ],
   "source": [
    "drili4_8.isnull().sum()# to find the null"
   ]
  },
  {
   "cell_type": "markdown",
   "metadata": {},
   "source": [
    "#### 4b. Are there any obvious issues with the observations?\n",
    "\n",
    "**What is the minimum *possible* value for each dataset? What is the maximum *possible* value?**"
   ]
  },
  {
   "cell_type": "code",
   "execution_count": 7,
   "metadata": {},
   "outputs": [
    {
     "name": "stdout",
     "output_type": "stream",
     "text": [
      "('99925n', '1007n')\n",
      "('100291n', '9983n')\n"
     ]
    }
   ],
   "source": [
    "#Code\n",
    "print((tracc8.Value.max(), tracc8.Value.min()))# min and max of Traffic\n",
    "print((drili4_8['Driving Liceses'].min(),drili4_8['Driving Liceses'].max())) # min and max of Driving_licenses"
   ]
  },
  {
   "cell_type": "markdown",
   "metadata": {},
   "source": [
    "#### 5. What are your data types? \n",
    "Display the data types of each feature. "
   ]
  },
  {
   "cell_type": "code",
   "execution_count": 8,
   "metadata": {
    "scrolled": true
   },
   "outputs": [
    {
     "name": "stdout",
     "output_type": "stream",
     "text": [
      "Unnamed: 0       int64\n",
      "Unnamed: 0.1     int64\n",
      "Year            object\n",
      "Region          object\n",
      "Indicator       object\n",
      "Value           object\n",
      "geo_point_2d    object\n",
      "dtype: object\n",
      "Unnamed: 0              int64\n",
      "Year                   object\n",
      "Administritive Area    object\n",
      "Driving Liceses        object\n",
      "geo_point_2d           object\n",
      "dtype: object\n"
     ]
    }
   ],
   "source": [
    "#code\n",
    "print(tracc8.dtypes)# print data types\n",
    "print(drili4_8.dtypes)"
   ]
  },
  {
   "cell_type": "markdown",
   "metadata": {},
   "source": [
    "What did you learn?\n",
    "- Do any of them seem odd?  \n",
    "- Which ones are not as they should be?  "
   ]
  },
  {
   "cell_type": "markdown",
   "metadata": {},
   "source": [
    "#### the dataset  should be :-\n",
    "#### Year = DateTime .\n",
    "#### Value = number.\n",
    "#### Driving Liceses =number\n",
    "#### geo_point_2d = flot "
   ]
  },
  {
   "cell_type": "markdown",
   "metadata": {},
   "source": [
    "#### 6. Fix incorrect data types\n",
    "Based on what you discovered above, use appropriate methods to re-type incorrectly typed data.\n",
    "- Define a function that will allow you to convert numerical columns to an appropriate numeric type. Use `map` or `apply` to change these columns in each dataframe."
   ]
  },
  {
   "cell_type": "code",
   "execution_count": 9,
   "metadata": {},
   "outputs": [],
   "source": [
    "def to_number(string): # def to remove (n)\n",
    "    num=int(string.replace('n',''))\n",
    "    return num"
   ]
  },
  {
   "cell_type": "code",
   "execution_count": 10,
   "metadata": {},
   "outputs": [],
   "source": [
    "tracc8['Value'] = tracc8['Value'].apply(to_number) # apply the def to_number to the value \n",
    "drili4_8['Driving Liceses'] = drili4_8['Driving Liceses'].apply(to_number)# apply the def to_number to the value "
   ]
  },
  {
   "cell_type": "code",
   "execution_count": 11,
   "metadata": {},
   "outputs": [
    {
     "name": "stdout",
     "output_type": "stream",
     "text": [
      "<class 'pandas.core.frame.DataFrame'>\n",
      "RangeIndex: 84 entries, 0 to 83\n",
      "Data columns (total 7 columns):\n",
      " #   Column        Non-Null Count  Dtype \n",
      "---  ------        --------------  ----- \n",
      " 0   Unnamed: 0    84 non-null     int64 \n",
      " 1   Unnamed: 0.1  84 non-null     int64 \n",
      " 2   Year          84 non-null     object\n",
      " 3   Region        84 non-null     object\n",
      " 4   Indicator     84 non-null     object\n",
      " 5   Value         84 non-null     int64 \n",
      " 6   geo_point_2d  78 non-null     object\n",
      "dtypes: int64(3), object(4)\n",
      "memory usage: 4.7+ KB\n",
      "<class 'pandas.core.frame.DataFrame'>\n",
      "RangeIndex: 350 entries, 0 to 349\n",
      "Data columns (total 5 columns):\n",
      " #   Column               Non-Null Count  Dtype \n",
      "---  ------               --------------  ----- \n",
      " 0   Unnamed: 0           350 non-null    int64 \n",
      " 1   Year                 350 non-null    object\n",
      " 2   Administritive Area  350 non-null    object\n",
      " 3   Driving Liceses      350 non-null    int64 \n",
      " 4   geo_point_2d         325 non-null    object\n",
      "dtypes: int64(2), object(3)\n",
      "memory usage: 13.8+ KB\n",
      "None None\n"
     ]
    }
   ],
   "source": [
    "print(tracc8.info(), drili4_8.info())"
   ]
  },
  {
   "cell_type": "code",
   "execution_count": 12,
   "metadata": {},
   "outputs": [
    {
     "data": {
      "text/html": [
       "<div>\n",
       "<style scoped>\n",
       "    .dataframe tbody tr th:only-of-type {\n",
       "        vertical-align: middle;\n",
       "    }\n",
       "\n",
       "    .dataframe tbody tr th {\n",
       "        vertical-align: top;\n",
       "    }\n",
       "\n",
       "    .dataframe thead th {\n",
       "        text-align: right;\n",
       "    }\n",
       "</style>\n",
       "<table border=\"1\" class=\"dataframe\">\n",
       "  <thead>\n",
       "    <tr style=\"text-align: right;\">\n",
       "      <th></th>\n",
       "      <th>Unnamed: 0</th>\n",
       "      <th>Year</th>\n",
       "      <th>Administritive Area</th>\n",
       "      <th>Driving Liceses</th>\n",
       "      <th>geo_point_2d</th>\n",
       "    </tr>\n",
       "  </thead>\n",
       "  <tbody>\n",
       "    <tr>\n",
       "      <th>0</th>\n",
       "      <td>0</td>\n",
       "      <td>(2012)</td>\n",
       "      <td>Makkah</td>\n",
       "      <td>143954</td>\n",
       "      <td>21.628962766, 41.2636898334</td>\n",
       "    </tr>\n",
       "    <tr>\n",
       "      <th>1</th>\n",
       "      <td>1</td>\n",
       "      <td>(1994)</td>\n",
       "      <td>Makkah</td>\n",
       "      <td>75349</td>\n",
       "      <td>21.628962766, 41.2636898334</td>\n",
       "    </tr>\n",
       "    <tr>\n",
       "      <th>2</th>\n",
       "      <td>2</td>\n",
       "      <td>(1998)</td>\n",
       "      <td>Makkah</td>\n",
       "      <td>86082</td>\n",
       "      <td>21.628962766, 41.2636898334</td>\n",
       "    </tr>\n",
       "    <tr>\n",
       "      <th>3</th>\n",
       "      <td>3</td>\n",
       "      <td>(2004)</td>\n",
       "      <td>Makkah</td>\n",
       "      <td>86636</td>\n",
       "      <td>21.628962766, 41.2636898334</td>\n",
       "    </tr>\n",
       "    <tr>\n",
       "      <th>4</th>\n",
       "      <td>4</td>\n",
       "      <td>(2005)</td>\n",
       "      <td>Makkah</td>\n",
       "      <td>65099</td>\n",
       "      <td>21.628962766, 41.2636898334</td>\n",
       "    </tr>\n",
       "  </tbody>\n",
       "</table>\n",
       "</div>"
      ],
      "text/plain": [
       "   Unnamed: 0    Year Administritive Area  Driving Liceses  \\\n",
       "0           0  (2012)              Makkah           143954   \n",
       "1           1  (1994)              Makkah            75349   \n",
       "2           2  (1998)              Makkah            86082   \n",
       "3           3  (2004)              Makkah            86636   \n",
       "4           4  (2005)              Makkah            65099   \n",
       "\n",
       "                  geo_point_2d  \n",
       "0  21.628962766, 41.2636898334  \n",
       "1  21.628962766, 41.2636898334  \n",
       "2  21.628962766, 41.2636898334  \n",
       "3  21.628962766, 41.2636898334  \n",
       "4  21.628962766, 41.2636898334  "
      ]
     },
     "execution_count": 12,
     "metadata": {},
     "output_type": "execute_result"
    }
   ],
   "source": [
    "# after the drop\n",
    "drili4_8.head()"
   ]
  },
  {
   "cell_type": "code",
   "execution_count": 13,
   "metadata": {},
   "outputs": [
    {
     "data": {
      "text/html": [
       "<div>\n",
       "<style scoped>\n",
       "    .dataframe tbody tr th:only-of-type {\n",
       "        vertical-align: middle;\n",
       "    }\n",
       "\n",
       "    .dataframe tbody tr th {\n",
       "        vertical-align: top;\n",
       "    }\n",
       "\n",
       "    .dataframe thead th {\n",
       "        text-align: right;\n",
       "    }\n",
       "</style>\n",
       "<table border=\"1\" class=\"dataframe\">\n",
       "  <thead>\n",
       "    <tr style=\"text-align: right;\">\n",
       "      <th></th>\n",
       "      <th>Unnamed: 0</th>\n",
       "      <th>Unnamed: 0.1</th>\n",
       "      <th>Year</th>\n",
       "      <th>Region</th>\n",
       "      <th>Indicator</th>\n",
       "      <th>Value</th>\n",
       "      <th>geo_point_2d</th>\n",
       "    </tr>\n",
       "  </thead>\n",
       "  <tbody>\n",
       "    <tr>\n",
       "      <th>0</th>\n",
       "      <td>0</td>\n",
       "      <td>0</td>\n",
       "      <td>(2016)</td>\n",
       "      <td>Makkah</td>\n",
       "      <td>No. of Casualties - Injured</td>\n",
       "      <td>12383</td>\n",
       "      <td>21.628962766, 41.2636898334</td>\n",
       "    </tr>\n",
       "    <tr>\n",
       "      <th>1</th>\n",
       "      <td>1</td>\n",
       "      <td>1</td>\n",
       "      <td>(2016)</td>\n",
       "      <td>Eastern Region</td>\n",
       "      <td>No. of Casualties - Dead</td>\n",
       "      <td>1113</td>\n",
       "      <td>23.2883307307, 50.1478302439</td>\n",
       "    </tr>\n",
       "    <tr>\n",
       "      <th>2</th>\n",
       "      <td>2</td>\n",
       "      <td>2</td>\n",
       "      <td>(2016)</td>\n",
       "      <td>Tabouk</td>\n",
       "      <td>No. of Casualties - Dead</td>\n",
       "      <td>434</td>\n",
       "      <td>27.90165499, 37.2598581394</td>\n",
       "    </tr>\n",
       "    <tr>\n",
       "      <th>3</th>\n",
       "      <td>3</td>\n",
       "      <td>3</td>\n",
       "      <td>(2016)</td>\n",
       "      <td>Hail</td>\n",
       "      <td>No. of Casualties - Dead</td>\n",
       "      <td>299</td>\n",
       "      <td>27.400845724, 41.4406960508</td>\n",
       "    </tr>\n",
       "    <tr>\n",
       "      <th>4</th>\n",
       "      <td>4</td>\n",
       "      <td>4</td>\n",
       "      <td>(2016)</td>\n",
       "      <td>Hail</td>\n",
       "      <td>No. of Accidents</td>\n",
       "      <td>10199</td>\n",
       "      <td>27.400845724, 41.4406960508</td>\n",
       "    </tr>\n",
       "  </tbody>\n",
       "</table>\n",
       "</div>"
      ],
      "text/plain": [
       "   Unnamed: 0  Unnamed: 0.1    Year          Region  \\\n",
       "0           0             0  (2016)          Makkah   \n",
       "1           1             1  (2016)  Eastern Region   \n",
       "2           2             2  (2016)          Tabouk   \n",
       "3           3             3  (2016)            Hail   \n",
       "4           4             4  (2016)            Hail   \n",
       "\n",
       "                     Indicator  Value                  geo_point_2d  \n",
       "0  No. of Casualties - Injured  12383   21.628962766, 41.2636898334  \n",
       "1     No. of Casualties - Dead   1113  23.2883307307, 50.1478302439  \n",
       "2     No. of Casualties - Dead    434    27.90165499, 37.2598581394  \n",
       "3     No. of Casualties - Dead    299   27.400845724, 41.4406960508  \n",
       "4             No. of Accidents  10199   27.400845724, 41.4406960508  "
      ]
     },
     "execution_count": 13,
     "metadata": {},
     "output_type": "execute_result"
    }
   ],
   "source": [
    "# after the deop\n",
    "tracc8.head()"
   ]
  },
  {
   "cell_type": "markdown",
   "metadata": {},
   "source": [
    "- Make new columns `x` and `y` using `geo_point_2d`"
   ]
  },
  {
   "cell_type": "code",
   "execution_count": 14,
   "metadata": {},
   "outputs": [
    {
     "name": "stderr",
     "output_type": "stream",
     "text": [
      "D:\\anaconda\\lib\\site-packages\\ipykernel_launcher.py:3: FutureWarning: Columnar iteration over characters will be deprecated in future releases.\n",
      "  This is separate from the ipykernel package so we can avoid doing imports until\n",
      "D:\\anaconda\\lib\\site-packages\\ipykernel_launcher.py:4: FutureWarning: Columnar iteration over characters will be deprecated in future releases.\n",
      "  after removing the cwd from sys.path.\n"
     ]
    }
   ],
   "source": [
    "# #code\n",
    "# to remove the (,) and split the column to two \n",
    "drili4_8['x'] ,drili4_8['y'] =drili4_8 ['geo_point_2d'].str.split(\",\").str \n",
    "tracc8['x'],tracc8['y']=tracc8['geo_point_2d'].str.split(',').str"
   ]
  },
  {
   "cell_type": "markdown",
   "metadata": {},
   "source": [
    "- Fix any individual values preventing other columns from being the appropriate type."
   ]
  },
  {
   "cell_type": "code",
   "execution_count": 15,
   "metadata": {},
   "outputs": [],
   "source": [
    "#code\n",
    "#to remove the '(',')'\n",
    "drili4_8['Year'] = drili4_8['Year'].str.replace(\"(\",\"\").str.replace(\")\",\"\")\n",
    "tracc8['Year'] = tracc8['Year'].str.replace(\"(\",\"\").str.replace(\")\",\"\")"
   ]
  },
  {
   "cell_type": "markdown",
   "metadata": {},
   "source": [
    "- Finish your data modifications by making sure the columns are now typed appropriately."
   ]
  },
  {
   "cell_type": "code",
   "execution_count": 16,
   "metadata": {},
   "outputs": [],
   "source": [
    "#code\n",
    "# to retype the x and y  to flot\n",
    "tracc8['x'] = tracc8['x'].map(lambda x: float(x))\n",
    "tracc8['y'] = tracc8['y'].map(lambda x: float(x))\n",
    "\n",
    "drili4_8['x'] = drili4_8['x'].map(lambda x: float(x))\n",
    "drili4_8['y'] = drili4_8['y'].map(lambda x: float(x))\n",
    "\n",
    "tracc8.Year = pd.to_datetime(tracc8.Year)\n",
    "drili4_8.Year = pd.to_datetime(drili4_8.Year)"
   ]
  },
  {
   "cell_type": "code",
   "execution_count": 17,
   "metadata": {},
   "outputs": [],
   "source": [
    "# to drop  Unnamed and geo_point_2d\n",
    "drili4_8=drili4_8.drop(columns=['Unnamed: 0','geo_point_2d'])\n",
    "tracc8=tracc8.drop(columns=['Unnamed: 0','Unnamed: 0.1','geo_point_2d'])"
   ]
  },
  {
   "cell_type": "code",
   "execution_count": 18,
   "metadata": {},
   "outputs": [
    {
     "data": {
      "text/html": [
       "<div>\n",
       "<style scoped>\n",
       "    .dataframe tbody tr th:only-of-type {\n",
       "        vertical-align: middle;\n",
       "    }\n",
       "\n",
       "    .dataframe tbody tr th {\n",
       "        vertical-align: top;\n",
       "    }\n",
       "\n",
       "    .dataframe thead th {\n",
       "        text-align: right;\n",
       "    }\n",
       "</style>\n",
       "<table border=\"1\" class=\"dataframe\">\n",
       "  <thead>\n",
       "    <tr style=\"text-align: right;\">\n",
       "      <th></th>\n",
       "      <th>Year</th>\n",
       "      <th>Administritive Area</th>\n",
       "      <th>Driving Liceses</th>\n",
       "      <th>x</th>\n",
       "      <th>y</th>\n",
       "    </tr>\n",
       "  </thead>\n",
       "  <tbody>\n",
       "    <tr>\n",
       "      <th>0</th>\n",
       "      <td>2012-01-01</td>\n",
       "      <td>Makkah</td>\n",
       "      <td>143954</td>\n",
       "      <td>21.628963</td>\n",
       "      <td>41.26369</td>\n",
       "    </tr>\n",
       "    <tr>\n",
       "      <th>1</th>\n",
       "      <td>1994-01-01</td>\n",
       "      <td>Makkah</td>\n",
       "      <td>75349</td>\n",
       "      <td>21.628963</td>\n",
       "      <td>41.26369</td>\n",
       "    </tr>\n",
       "    <tr>\n",
       "      <th>2</th>\n",
       "      <td>1998-01-01</td>\n",
       "      <td>Makkah</td>\n",
       "      <td>86082</td>\n",
       "      <td>21.628963</td>\n",
       "      <td>41.26369</td>\n",
       "    </tr>\n",
       "    <tr>\n",
       "      <th>3</th>\n",
       "      <td>2004-01-01</td>\n",
       "      <td>Makkah</td>\n",
       "      <td>86636</td>\n",
       "      <td>21.628963</td>\n",
       "      <td>41.26369</td>\n",
       "    </tr>\n",
       "    <tr>\n",
       "      <th>4</th>\n",
       "      <td>2005-01-01</td>\n",
       "      <td>Makkah</td>\n",
       "      <td>65099</td>\n",
       "      <td>21.628963</td>\n",
       "      <td>41.26369</td>\n",
       "    </tr>\n",
       "  </tbody>\n",
       "</table>\n",
       "</div>"
      ],
      "text/plain": [
       "        Year Administritive Area  Driving Liceses          x         y\n",
       "0 2012-01-01              Makkah           143954  21.628963  41.26369\n",
       "1 1994-01-01              Makkah            75349  21.628963  41.26369\n",
       "2 1998-01-01              Makkah            86082  21.628963  41.26369\n",
       "3 2004-01-01              Makkah            86636  21.628963  41.26369\n",
       "4 2005-01-01              Makkah            65099  21.628963  41.26369"
      ]
     },
     "execution_count": 18,
     "metadata": {},
     "output_type": "execute_result"
    }
   ],
   "source": [
    "drili4_8.head()"
   ]
  },
  {
   "cell_type": "code",
   "execution_count": 19,
   "metadata": {},
   "outputs": [
    {
     "data": {
      "text/html": [
       "<div>\n",
       "<style scoped>\n",
       "    .dataframe tbody tr th:only-of-type {\n",
       "        vertical-align: middle;\n",
       "    }\n",
       "\n",
       "    .dataframe tbody tr th {\n",
       "        vertical-align: top;\n",
       "    }\n",
       "\n",
       "    .dataframe thead th {\n",
       "        text-align: right;\n",
       "    }\n",
       "</style>\n",
       "<table border=\"1\" class=\"dataframe\">\n",
       "  <thead>\n",
       "    <tr style=\"text-align: right;\">\n",
       "      <th></th>\n",
       "      <th>Year</th>\n",
       "      <th>Region</th>\n",
       "      <th>Indicator</th>\n",
       "      <th>Value</th>\n",
       "      <th>x</th>\n",
       "      <th>y</th>\n",
       "    </tr>\n",
       "  </thead>\n",
       "  <tbody>\n",
       "    <tr>\n",
       "      <th>0</th>\n",
       "      <td>2016-01-01</td>\n",
       "      <td>Makkah</td>\n",
       "      <td>No. of Casualties - Injured</td>\n",
       "      <td>12383</td>\n",
       "      <td>21.628963</td>\n",
       "      <td>41.263690</td>\n",
       "    </tr>\n",
       "    <tr>\n",
       "      <th>1</th>\n",
       "      <td>2016-01-01</td>\n",
       "      <td>Eastern Region</td>\n",
       "      <td>No. of Casualties - Dead</td>\n",
       "      <td>1113</td>\n",
       "      <td>23.288331</td>\n",
       "      <td>50.147830</td>\n",
       "    </tr>\n",
       "    <tr>\n",
       "      <th>2</th>\n",
       "      <td>2016-01-01</td>\n",
       "      <td>Tabouk</td>\n",
       "      <td>No. of Casualties - Dead</td>\n",
       "      <td>434</td>\n",
       "      <td>27.901655</td>\n",
       "      <td>37.259858</td>\n",
       "    </tr>\n",
       "    <tr>\n",
       "      <th>3</th>\n",
       "      <td>2016-01-01</td>\n",
       "      <td>Hail</td>\n",
       "      <td>No. of Casualties - Dead</td>\n",
       "      <td>299</td>\n",
       "      <td>27.400846</td>\n",
       "      <td>41.440696</td>\n",
       "    </tr>\n",
       "    <tr>\n",
       "      <th>4</th>\n",
       "      <td>2016-01-01</td>\n",
       "      <td>Hail</td>\n",
       "      <td>No. of Accidents</td>\n",
       "      <td>10199</td>\n",
       "      <td>27.400846</td>\n",
       "      <td>41.440696</td>\n",
       "    </tr>\n",
       "  </tbody>\n",
       "</table>\n",
       "</div>"
      ],
      "text/plain": [
       "        Year          Region                    Indicator  Value          x  \\\n",
       "0 2016-01-01          Makkah  No. of Casualties - Injured  12383  21.628963   \n",
       "1 2016-01-01  Eastern Region     No. of Casualties - Dead   1113  23.288331   \n",
       "2 2016-01-01          Tabouk     No. of Casualties - Dead    434  27.901655   \n",
       "3 2016-01-01            Hail     No. of Casualties - Dead    299  27.400846   \n",
       "4 2016-01-01            Hail             No. of Accidents  10199  27.400846   \n",
       "\n",
       "           y  \n",
       "0  41.263690  \n",
       "1  50.147830  \n",
       "2  37.259858  \n",
       "3  41.440696  \n",
       "4  41.440696  "
      ]
     },
     "execution_count": 19,
     "metadata": {},
     "output_type": "execute_result"
    }
   ],
   "source": [
    "tracc8.head()"
   ]
  },
  {
   "cell_type": "markdown",
   "metadata": {},
   "source": [
    "- Display the data types again to confirm they are correct."
   ]
  },
  {
   "cell_type": "code",
   "execution_count": 20,
   "metadata": {},
   "outputs": [
    {
     "name": "stdout",
     "output_type": "stream",
     "text": [
      "Year                   datetime64[ns]\n",
      "Administritive Area            object\n",
      "Driving Liceses                 int64\n",
      "x                             float64\n",
      "y                             float64\n",
      "dtype: object Year         datetime64[ns]\n",
      "Region               object\n",
      "Indicator            object\n",
      "Value                 int64\n",
      "x                   float64\n",
      "y                   float64\n",
      "dtype: object\n"
     ]
    }
   ],
   "source": [
    "#Code:\n",
    "print(drili4_8.dtypes,tracc8.dtypes)"
   ]
  },
  {
   "cell_type": "markdown",
   "metadata": {},
   "source": [
    "#### 7. Rename columns\n",
    "Change the names of the columns to more expressive names so that you can tell the difference the Driving Licenses  columns and the & Traffic Accidents columns. Your solution should map all column names being changed at once (no repeated singular name-changes). **We will be combining these two datasets, and so you should name columns in an appropriate way**.\n",
    "\n",
    "**Guidelines**:\n",
    "- Column names should be all lowercase (you will thank yourself when you start pushing data to SQL later in the course)\n",
    "- Column names should not contain spaces (underscores will suffice--this allows for using the `df.column_name` method to access columns in addition to `df['column_name']`.\n",
    "- Column names should be unique and informative (the only feature that we actually share between dataframes is the state).\n",
    "- Please also fix any typos you see in the column names."
   ]
  },
  {
   "cell_type": "code",
   "execution_count": 21,
   "metadata": {},
   "outputs": [
    {
     "data": {
      "text/plain": [
       "Index(['Year', 'Administritive Area', 'Driving Liceses', 'x', 'y'], dtype='object')"
      ]
     },
     "execution_count": 21,
     "metadata": {},
     "output_type": "execute_result"
    }
   ],
   "source": [
    "drili4_8.columns"
   ]
  },
  {
   "cell_type": "code",
   "execution_count": 22,
   "metadata": {},
   "outputs": [
    {
     "data": {
      "text/plain": [
       "Index(['Year', 'Region', 'Indicator', 'Value', 'x', 'y'], dtype='object')"
      ]
     },
     "execution_count": 22,
     "metadata": {},
     "output_type": "execute_result"
    }
   ],
   "source": [
    "tracc8.columns"
   ]
  },
  {
   "cell_type": "code",
   "execution_count": 23,
   "metadata": {},
   "outputs": [],
   "source": [
    "#code\n",
    "# rename the columns\n",
    "drili4_8.columns=['year','region','no_lic','x_lic','y_lic']\n",
    "tracc8.columns=['year', 'region', 'indi', 'value', 'x_acc', 'y_acc']"
   ]
  },
  {
   "cell_type": "code",
   "execution_count": 24,
   "metadata": {},
   "outputs": [
    {
     "data": {
      "text/plain": [
       "(Index(['year', 'region', 'no_lic', 'x_lic', 'y_lic'], dtype='object'),\n",
       " Index(['year', 'region', 'indi', 'value', 'x_acc', 'y_acc'], dtype='object'))"
      ]
     },
     "execution_count": 24,
     "metadata": {},
     "output_type": "execute_result"
    }
   ],
   "source": [
    "drili4_8.columns,tracc8.columns"
   ]
  },
  {
   "cell_type": "markdown",
   "metadata": {},
   "source": [
    "#### 8. Create a data dictionary\n",
    "\n",
    "Now that we've fixed our data, and given it appropriate names, let's create a [data dictionary](http://library.ucmerced.edu/node/10249). \n",
    "\n",
    "A data dictionary provides a quick overview of features/variables/columns, alongside data types and descriptions. The more descriptive you can be, the more useful this document is.\n",
    "\n",
    "Example of a Fictional Data Dictionary Entry: \n",
    "\n",
    "|Feature|Type|Dataset|Description|\n",
    "|---|---|---|---|\n",
    "|**county_pop**|*integer*|2010 census|The population of the county (units in thousands, where 2.5 represents 2500 people).| \n",
    "|**per_poverty**|*float*|2010 census|The percent of the county over the age of 18 living below the 200% of official US poverty rate (units percent to two decimal places 98.10 means 98.1%)|\n",
    "\n",
    "[Here's a quick link to a short guide for formatting markdown in Jupyter notebooks](https://jupyter-notebook.readthedocs.io/en/stable/examples/Notebook/Working%20With%20Markdown%20Cells.html).\n",
    "\n",
    "Provided is the skeleton for formatting a markdown table, with columns headers that will help you create a data dictionary to quickly summarize your data, as well as some examples. **This would be a great thing to copy and paste into your custom README for this project.**"
   ]
  },
  {
   "cell_type": "markdown",
   "metadata": {},
   "source": [
    "### Driving Liceses\n",
    "\n",
    "|Feature|Type|Dataset|Description|\n",
    "|---|---|---|---|\n",
    "|**year**|datatime|Driving_Licenses|year of Driving_Licenses| \n",
    "|**region**|object|Driving_Licenses|area of Driving_Licenses|\n",
    "|**n_lic**|integer|Driving_Licenses|the number of Driving_Licenses|\n",
    "|**x_lic**|flot|Driving_Licenses|the x location in geo point of Driving_Licenses|\n",
    "|**y_lic**|flot|Driving_Licenses|the y location in geo point of Driving_Licenses|\n",
    "\n",
    "### Traffic Accidents\n",
    "\n",
    "|Feature|Type|Dataset|Description|\n",
    "|---|---|---|---|\n",
    "|**year**|datatime|Traffic_Accidents|year of traffic accident|\n",
    "|**region**|object|Traffic_Accidents|area of Traffic_Accidents|\n",
    "|**indicator**|object|Traffic_Accidents|indicator of Traffic_Accidents|\n",
    "|**value**|integer|Traffic_Accidents|value of Traffic_Accidents|\n",
    "|**x_acc**|flot|Traffic_Accidents|the x location in geo point of Traffic_Accidents|\n",
    "|**y_acc**|flot|Traffic_Accidents|the y location in geo point of Traffic_Accidents|\n"
   ]
  },
  {
   "cell_type": "markdown",
   "metadata": {},
   "source": [
    "#### 9. Drop unnecessary rows\n",
    "\n",
    "This study concerns accident and license in regions/area. Please do the followings:\n",
    "0. Which rows are not associated with regions?\n",
    "1. Confirm the numbers of all regions add up to total.\n",
    "2. Remove the rows that are not associated with regions"
   ]
  },
  {
   "cell_type": "code",
   "execution_count": 25,
   "metadata": {},
   "outputs": [
    {
     "name": "stdout",
     "output_type": "stream",
     "text": [
      "(84, 6) (350, 5)\n"
     ]
    }
   ],
   "source": [
    "print(tracc8.shape, drili4_8.shape)"
   ]
  },
  {
   "cell_type": "code",
   "execution_count": 26,
   "metadata": {},
   "outputs": [
    {
     "name": "stdout",
     "output_type": "stream",
     "text": [
      "(78, 6) (325, 5)\n"
     ]
    }
   ],
   "source": [
    "#code\n",
    "#to drop to total\n",
    "tracc8 = tracc8[tracc8.region != 'Total']\n",
    "drili4_8 = drili4_8[drili4_8.region != 'Total']\n",
    "print(tracc8.shape, drili4_8.shape)"
   ]
  },
  {
   "cell_type": "code",
   "execution_count": 27,
   "metadata": {},
   "outputs": [
    {
     "data": {
      "text/plain": [
       "array(['Makkah', 'Madinah', 'Al-Qaseem', 'Eastern', 'Assir', 'Tabouk',\n",
       "       'Hail', 'Northern Boarder', 'Jazan', 'Najran', 'Al-Baha',\n",
       "       'Al-Jouf', 'Riyadh'], dtype=object)"
      ]
     },
     "execution_count": 27,
     "metadata": {},
     "output_type": "execute_result"
    }
   ],
   "source": [
    "drili4_8.region.unique()"
   ]
  },
  {
   "cell_type": "code",
   "execution_count": 28,
   "metadata": {},
   "outputs": [
    {
     "data": {
      "text/plain": [
       "array(['Makkah', 'Eastern Region', 'Tabouk', 'Hail', 'Northern Boarder',\n",
       "       'Jazan', 'Al-Jouf', 'Al-Baaha', 'Riyadh', 'Madinah', 'Qassim',\n",
       "       'Najran', 'Asir'], dtype=object)"
      ]
     },
     "execution_count": 28,
     "metadata": {},
     "output_type": "execute_result"
    }
   ],
   "source": [
    "tracc8.region.unique()"
   ]
  },
  {
   "cell_type": "code",
   "execution_count": 29,
   "metadata": {},
   "outputs": [],
   "source": [
    "# rename the city\n",
    "tracc8.replace(to_replace='Qassim', value='Al-Qaseem',inplace=True)\n",
    "tracc8.replace(to_replace='Asir', value='Assir',inplace=True)\n",
    "tracc8.replace(to_replace='Al-Baaha', value='Al-Baha',inplace=True)\n",
    "tracc8.replace(to_replace='Eastern Region', value='Eastern_Region',inplace=True)\n",
    "drili4_8.replace(to_replace='Eastern', value='Eastern_Region',inplace=True)"
   ]
  },
  {
   "cell_type": "code",
   "execution_count": 30,
   "metadata": {},
   "outputs": [
    {
     "data": {
      "text/plain": [
       "(array(['Makkah', 'Eastern_Region', 'Tabouk', 'Hail', 'Northern Boarder',\n",
       "        'Jazan', 'Al-Jouf', 'Al-Baha', 'Riyadh', 'Madinah', 'Al-Qaseem',\n",
       "        'Najran', 'Assir'], dtype=object),\n",
       " array(['Makkah', 'Madinah', 'Al-Qaseem', 'Eastern_Region', 'Assir',\n",
       "        'Tabouk', 'Hail', 'Northern Boarder', 'Jazan', 'Najran', 'Al-Baha',\n",
       "        'Al-Jouf', 'Riyadh'], dtype=object))"
      ]
     },
     "execution_count": 30,
     "metadata": {},
     "output_type": "execute_result"
    }
   ],
   "source": [
    "tracc8.region.unique(),drili4_8.region.unique()"
   ]
  },
  {
   "cell_type": "markdown",
   "metadata": {},
   "source": [
    "#### 10a. Data formats\n",
    "Is the License data in long or wide format? How about the Accident data? And why?"
   ]
  },
  {
   "cell_type": "code",
   "execution_count": 31,
   "metadata": {},
   "outputs": [
    {
     "data": {
      "text/html": [
       "<div>\n",
       "<style scoped>\n",
       "    .dataframe tbody tr th:only-of-type {\n",
       "        vertical-align: middle;\n",
       "    }\n",
       "\n",
       "    .dataframe tbody tr th {\n",
       "        vertical-align: top;\n",
       "    }\n",
       "\n",
       "    .dataframe thead th {\n",
       "        text-align: right;\n",
       "    }\n",
       "</style>\n",
       "<table border=\"1\" class=\"dataframe\">\n",
       "  <thead>\n",
       "    <tr style=\"text-align: right;\">\n",
       "      <th></th>\n",
       "      <th>year</th>\n",
       "      <th>region</th>\n",
       "      <th>no_lic</th>\n",
       "      <th>x_lic</th>\n",
       "      <th>y_lic</th>\n",
       "    </tr>\n",
       "  </thead>\n",
       "  <tbody>\n",
       "    <tr>\n",
       "      <th>0</th>\n",
       "      <td>2012-01-01</td>\n",
       "      <td>Makkah</td>\n",
       "      <td>143954</td>\n",
       "      <td>21.628963</td>\n",
       "      <td>41.263690</td>\n",
       "    </tr>\n",
       "    <tr>\n",
       "      <th>1</th>\n",
       "      <td>1994-01-01</td>\n",
       "      <td>Makkah</td>\n",
       "      <td>75349</td>\n",
       "      <td>21.628963</td>\n",
       "      <td>41.263690</td>\n",
       "    </tr>\n",
       "    <tr>\n",
       "      <th>2</th>\n",
       "      <td>1998-01-01</td>\n",
       "      <td>Makkah</td>\n",
       "      <td>86082</td>\n",
       "      <td>21.628963</td>\n",
       "      <td>41.263690</td>\n",
       "    </tr>\n",
       "    <tr>\n",
       "      <th>3</th>\n",
       "      <td>2004-01-01</td>\n",
       "      <td>Makkah</td>\n",
       "      <td>86636</td>\n",
       "      <td>21.628963</td>\n",
       "      <td>41.263690</td>\n",
       "    </tr>\n",
       "    <tr>\n",
       "      <th>4</th>\n",
       "      <td>2005-01-01</td>\n",
       "      <td>Makkah</td>\n",
       "      <td>65099</td>\n",
       "      <td>21.628963</td>\n",
       "      <td>41.263690</td>\n",
       "    </tr>\n",
       "    <tr>\n",
       "      <th>5</th>\n",
       "      <td>2008-01-01</td>\n",
       "      <td>Makkah</td>\n",
       "      <td>77013</td>\n",
       "      <td>21.628963</td>\n",
       "      <td>41.263690</td>\n",
       "    </tr>\n",
       "    <tr>\n",
       "      <th>6</th>\n",
       "      <td>2014-01-01</td>\n",
       "      <td>Madinah</td>\n",
       "      <td>31447</td>\n",
       "      <td>24.927535</td>\n",
       "      <td>39.491824</td>\n",
       "    </tr>\n",
       "    <tr>\n",
       "      <th>7</th>\n",
       "      <td>2013-01-01</td>\n",
       "      <td>Madinah</td>\n",
       "      <td>28513</td>\n",
       "      <td>24.927535</td>\n",
       "      <td>39.491824</td>\n",
       "    </tr>\n",
       "    <tr>\n",
       "      <th>8</th>\n",
       "      <td>2012-01-01</td>\n",
       "      <td>Madinah</td>\n",
       "      <td>14459</td>\n",
       "      <td>24.927535</td>\n",
       "      <td>39.491824</td>\n",
       "    </tr>\n",
       "    <tr>\n",
       "      <th>9</th>\n",
       "      <td>1994-01-01</td>\n",
       "      <td>Madinah</td>\n",
       "      <td>3767</td>\n",
       "      <td>24.927535</td>\n",
       "      <td>39.491824</td>\n",
       "    </tr>\n",
       "  </tbody>\n",
       "</table>\n",
       "</div>"
      ],
      "text/plain": [
       "        year   region  no_lic      x_lic      y_lic\n",
       "0 2012-01-01   Makkah  143954  21.628963  41.263690\n",
       "1 1994-01-01   Makkah   75349  21.628963  41.263690\n",
       "2 1998-01-01   Makkah   86082  21.628963  41.263690\n",
       "3 2004-01-01   Makkah   86636  21.628963  41.263690\n",
       "4 2005-01-01   Makkah   65099  21.628963  41.263690\n",
       "5 2008-01-01   Makkah   77013  21.628963  41.263690\n",
       "6 2014-01-01  Madinah   31447  24.927535  39.491824\n",
       "7 2013-01-01  Madinah   28513  24.927535  39.491824\n",
       "8 2012-01-01  Madinah   14459  24.927535  39.491824\n",
       "9 1994-01-01  Madinah    3767  24.927535  39.491824"
      ]
     },
     "execution_count": 31,
     "metadata": {},
     "output_type": "execute_result"
    }
   ],
   "source": [
    "#code\n",
    "drili4_8.head(10)"
   ]
  },
  {
   "cell_type": "code",
   "execution_count": 32,
   "metadata": {},
   "outputs": [
    {
     "data": {
      "text/html": [
       "<div>\n",
       "<style scoped>\n",
       "    .dataframe tbody tr th:only-of-type {\n",
       "        vertical-align: middle;\n",
       "    }\n",
       "\n",
       "    .dataframe tbody tr th {\n",
       "        vertical-align: top;\n",
       "    }\n",
       "\n",
       "    .dataframe thead th {\n",
       "        text-align: right;\n",
       "    }\n",
       "</style>\n",
       "<table border=\"1\" class=\"dataframe\">\n",
       "  <thead>\n",
       "    <tr style=\"text-align: right;\">\n",
       "      <th></th>\n",
       "      <th>year</th>\n",
       "      <th>region</th>\n",
       "      <th>no_lic</th>\n",
       "      <th>x_lic</th>\n",
       "      <th>y_lic</th>\n",
       "    </tr>\n",
       "  </thead>\n",
       "  <tbody>\n",
       "    <tr>\n",
       "      <th>345</th>\n",
       "      <td>2000-01-01</td>\n",
       "      <td>Tabouk</td>\n",
       "      <td>8473</td>\n",
       "      <td>27.901655</td>\n",
       "      <td>37.259858</td>\n",
       "    </tr>\n",
       "    <tr>\n",
       "      <th>346</th>\n",
       "      <td>2006-01-01</td>\n",
       "      <td>Tabouk</td>\n",
       "      <td>8259</td>\n",
       "      <td>27.901655</td>\n",
       "      <td>37.259858</td>\n",
       "    </tr>\n",
       "    <tr>\n",
       "      <th>347</th>\n",
       "      <td>2013-01-01</td>\n",
       "      <td>Hail</td>\n",
       "      <td>9731</td>\n",
       "      <td>27.400846</td>\n",
       "      <td>41.440696</td>\n",
       "    </tr>\n",
       "    <tr>\n",
       "      <th>348</th>\n",
       "      <td>1997-01-01</td>\n",
       "      <td>Hail</td>\n",
       "      <td>6606</td>\n",
       "      <td>27.400846</td>\n",
       "      <td>41.440696</td>\n",
       "    </tr>\n",
       "    <tr>\n",
       "      <th>349</th>\n",
       "      <td>1999-01-01</td>\n",
       "      <td>Hail</td>\n",
       "      <td>3139</td>\n",
       "      <td>27.400846</td>\n",
       "      <td>41.440696</td>\n",
       "    </tr>\n",
       "  </tbody>\n",
       "</table>\n",
       "</div>"
      ],
      "text/plain": [
       "          year  region  no_lic      x_lic      y_lic\n",
       "345 2000-01-01  Tabouk    8473  27.901655  37.259858\n",
       "346 2006-01-01  Tabouk    8259  27.901655  37.259858\n",
       "347 2013-01-01    Hail    9731  27.400846  41.440696\n",
       "348 1997-01-01    Hail    6606  27.400846  41.440696\n",
       "349 1999-01-01    Hail    3139  27.400846  41.440696"
      ]
     },
     "execution_count": 32,
     "metadata": {},
     "output_type": "execute_result"
    }
   ],
   "source": [
    "drili4_8.tail()"
   ]
  },
  {
   "cell_type": "code",
   "execution_count": 33,
   "metadata": {},
   "outputs": [
    {
     "data": {
      "text/html": [
       "<div>\n",
       "<style scoped>\n",
       "    .dataframe tbody tr th:only-of-type {\n",
       "        vertical-align: middle;\n",
       "    }\n",
       "\n",
       "    .dataframe tbody tr th {\n",
       "        vertical-align: top;\n",
       "    }\n",
       "\n",
       "    .dataframe thead th {\n",
       "        text-align: right;\n",
       "    }\n",
       "</style>\n",
       "<table border=\"1\" class=\"dataframe\">\n",
       "  <thead>\n",
       "    <tr style=\"text-align: right;\">\n",
       "      <th></th>\n",
       "      <th>year</th>\n",
       "      <th>region</th>\n",
       "      <th>indi</th>\n",
       "      <th>value</th>\n",
       "      <th>x_acc</th>\n",
       "      <th>y_acc</th>\n",
       "    </tr>\n",
       "  </thead>\n",
       "  <tbody>\n",
       "    <tr>\n",
       "      <th>0</th>\n",
       "      <td>2016-01-01</td>\n",
       "      <td>Makkah</td>\n",
       "      <td>No. of Casualties - Injured</td>\n",
       "      <td>12383</td>\n",
       "      <td>21.628963</td>\n",
       "      <td>41.263690</td>\n",
       "    </tr>\n",
       "    <tr>\n",
       "      <th>1</th>\n",
       "      <td>2016-01-01</td>\n",
       "      <td>Eastern_Region</td>\n",
       "      <td>No. of Casualties - Dead</td>\n",
       "      <td>1113</td>\n",
       "      <td>23.288331</td>\n",
       "      <td>50.147830</td>\n",
       "    </tr>\n",
       "    <tr>\n",
       "      <th>2</th>\n",
       "      <td>2016-01-01</td>\n",
       "      <td>Tabouk</td>\n",
       "      <td>No. of Casualties - Dead</td>\n",
       "      <td>434</td>\n",
       "      <td>27.901655</td>\n",
       "      <td>37.259858</td>\n",
       "    </tr>\n",
       "    <tr>\n",
       "      <th>3</th>\n",
       "      <td>2016-01-01</td>\n",
       "      <td>Hail</td>\n",
       "      <td>No. of Casualties - Dead</td>\n",
       "      <td>299</td>\n",
       "      <td>27.400846</td>\n",
       "      <td>41.440696</td>\n",
       "    </tr>\n",
       "    <tr>\n",
       "      <th>4</th>\n",
       "      <td>2016-01-01</td>\n",
       "      <td>Hail</td>\n",
       "      <td>No. of Accidents</td>\n",
       "      <td>10199</td>\n",
       "      <td>27.400846</td>\n",
       "      <td>41.440696</td>\n",
       "    </tr>\n",
       "  </tbody>\n",
       "</table>\n",
       "</div>"
      ],
      "text/plain": [
       "        year          region                         indi  value      x_acc  \\\n",
       "0 2016-01-01          Makkah  No. of Casualties - Injured  12383  21.628963   \n",
       "1 2016-01-01  Eastern_Region     No. of Casualties - Dead   1113  23.288331   \n",
       "2 2016-01-01          Tabouk     No. of Casualties - Dead    434  27.901655   \n",
       "3 2016-01-01            Hail     No. of Casualties - Dead    299  27.400846   \n",
       "4 2016-01-01            Hail             No. of Accidents  10199  27.400846   \n",
       "\n",
       "       y_acc  \n",
       "0  41.263690  \n",
       "1  50.147830  \n",
       "2  37.259858  \n",
       "3  41.440696  \n",
       "4  41.440696  "
      ]
     },
     "execution_count": 33,
     "metadata": {},
     "output_type": "execute_result"
    }
   ],
   "source": [
    "tracc8.head()"
   ]
  },
  {
   "cell_type": "code",
   "execution_count": 34,
   "metadata": {},
   "outputs": [
    {
     "data": {
      "text/html": [
       "<div>\n",
       "<style scoped>\n",
       "    .dataframe tbody tr th:only-of-type {\n",
       "        vertical-align: middle;\n",
       "    }\n",
       "\n",
       "    .dataframe tbody tr th {\n",
       "        vertical-align: top;\n",
       "    }\n",
       "\n",
       "    .dataframe thead th {\n",
       "        text-align: right;\n",
       "    }\n",
       "</style>\n",
       "<table border=\"1\" class=\"dataframe\">\n",
       "  <thead>\n",
       "    <tr style=\"text-align: right;\">\n",
       "      <th></th>\n",
       "      <th>year</th>\n",
       "      <th>region</th>\n",
       "      <th>indi</th>\n",
       "      <th>value</th>\n",
       "      <th>x_acc</th>\n",
       "      <th>y_acc</th>\n",
       "    </tr>\n",
       "  </thead>\n",
       "  <tbody>\n",
       "    <tr>\n",
       "      <th>79</th>\n",
       "      <td>2017-01-01</td>\n",
       "      <td>Assir</td>\n",
       "      <td>No. of Casualties - Injured</td>\n",
       "      <td>2368</td>\n",
       "      <td>19.138785</td>\n",
       "      <td>42.941470</td>\n",
       "    </tr>\n",
       "    <tr>\n",
       "      <th>80</th>\n",
       "      <td>2017-01-01</td>\n",
       "      <td>Hail</td>\n",
       "      <td>No. of Casualties - Injured</td>\n",
       "      <td>773</td>\n",
       "      <td>27.400846</td>\n",
       "      <td>41.440696</td>\n",
       "    </tr>\n",
       "    <tr>\n",
       "      <th>81</th>\n",
       "      <td>2017-01-01</td>\n",
       "      <td>Al-Baha</td>\n",
       "      <td>No. of Casualties - Dead</td>\n",
       "      <td>134</td>\n",
       "      <td>20.148406</td>\n",
       "      <td>41.466548</td>\n",
       "    </tr>\n",
       "    <tr>\n",
       "      <th>82</th>\n",
       "      <td>2017-01-01</td>\n",
       "      <td>Al-Baha</td>\n",
       "      <td>No. of Accidents</td>\n",
       "      <td>1414</td>\n",
       "      <td>20.148406</td>\n",
       "      <td>41.466548</td>\n",
       "    </tr>\n",
       "    <tr>\n",
       "      <th>83</th>\n",
       "      <td>2017-01-01</td>\n",
       "      <td>Al-Baha</td>\n",
       "      <td>No. of Casualties - Injured</td>\n",
       "      <td>1007</td>\n",
       "      <td>20.148406</td>\n",
       "      <td>41.466548</td>\n",
       "    </tr>\n",
       "  </tbody>\n",
       "</table>\n",
       "</div>"
      ],
      "text/plain": [
       "         year   region                         indi  value      x_acc  \\\n",
       "79 2017-01-01    Assir  No. of Casualties - Injured   2368  19.138785   \n",
       "80 2017-01-01     Hail  No. of Casualties - Injured    773  27.400846   \n",
       "81 2017-01-01  Al-Baha     No. of Casualties - Dead    134  20.148406   \n",
       "82 2017-01-01  Al-Baha             No. of Accidents   1414  20.148406   \n",
       "83 2017-01-01  Al-Baha  No. of Casualties - Injured   1007  20.148406   \n",
       "\n",
       "        y_acc  \n",
       "79  42.941470  \n",
       "80  41.440696  \n",
       "81  41.466548  \n",
       "82  41.466548  \n",
       "83  41.466548  "
      ]
     },
     "execution_count": 34,
     "metadata": {},
     "output_type": "execute_result"
    }
   ],
   "source": [
    "tracc8.tail()"
   ]
  },
  {
   "cell_type": "markdown",
   "metadata": {},
   "source": [
    "### both of them are long (**why ? **), because for each data point we have as many rows as the number of attributes and each row contains the value of a particular attribute for a given data point."
   ]
  },
  {
   "cell_type": "markdown",
   "metadata": {},
   "source": [
    "#### 10b. Changing formats\n",
    "Which format would work best for both dataframes? Transform the datasets to the same format before merging in the next task."
   ]
  },
  {
   "cell_type": "markdown",
   "metadata": {},
   "source": [
    "## the wide format would work best for both dataframes"
   ]
  },
  {
   "cell_type": "code",
   "execution_count": 35,
   "metadata": {},
   "outputs": [],
   "source": [
    "#code\n",
    "# to make the data wide \n",
    "tracc8_prtab = tracc8.pivot_table(index=['year', 'region'], columns='indi', values='value')"
   ]
  },
  {
   "cell_type": "code",
   "execution_count": 36,
   "metadata": {},
   "outputs": [],
   "source": [
    "# to remove the column name \n",
    "tracc8_prtab.columns.name = None"
   ]
  },
  {
   "cell_type": "code",
   "execution_count": 37,
   "metadata": {},
   "outputs": [],
   "source": [
    "tracc8_prtab.reset_index(inplace=True)"
   ]
  },
  {
   "cell_type": "code",
   "execution_count": 38,
   "metadata": {},
   "outputs": [
    {
     "data": {
      "text/html": [
       "<div>\n",
       "<style scoped>\n",
       "    .dataframe tbody tr th:only-of-type {\n",
       "        vertical-align: middle;\n",
       "    }\n",
       "\n",
       "    .dataframe tbody tr th {\n",
       "        vertical-align: top;\n",
       "    }\n",
       "\n",
       "    .dataframe thead th {\n",
       "        text-align: right;\n",
       "    }\n",
       "</style>\n",
       "<table border=\"1\" class=\"dataframe\">\n",
       "  <thead>\n",
       "    <tr style=\"text-align: right;\">\n",
       "      <th></th>\n",
       "      <th>year</th>\n",
       "      <th>region</th>\n",
       "      <th>No. of Accidents</th>\n",
       "      <th>No. of Casualties - Dead</th>\n",
       "      <th>No. of Casualties - Injured</th>\n",
       "    </tr>\n",
       "  </thead>\n",
       "  <tbody>\n",
       "    <tr>\n",
       "      <th>0</th>\n",
       "      <td>2016-01-01</td>\n",
       "      <td>Al-Baha</td>\n",
       "      <td>3618</td>\n",
       "      <td>185</td>\n",
       "      <td>1227</td>\n",
       "    </tr>\n",
       "    <tr>\n",
       "      <th>1</th>\n",
       "      <td>2016-01-01</td>\n",
       "      <td>Al-Jouf</td>\n",
       "      <td>10212</td>\n",
       "      <td>245</td>\n",
       "      <td>920</td>\n",
       "    </tr>\n",
       "    <tr>\n",
       "      <th>2</th>\n",
       "      <td>2016-01-01</td>\n",
       "      <td>Al-Qaseem</td>\n",
       "      <td>25664</td>\n",
       "      <td>397</td>\n",
       "      <td>1513</td>\n",
       "    </tr>\n",
       "    <tr>\n",
       "      <th>3</th>\n",
       "      <td>2016-01-01</td>\n",
       "      <td>Assir</td>\n",
       "      <td>32684</td>\n",
       "      <td>983</td>\n",
       "      <td>2541</td>\n",
       "    </tr>\n",
       "    <tr>\n",
       "      <th>4</th>\n",
       "      <td>2016-01-01</td>\n",
       "      <td>Eastern_Region</td>\n",
       "      <td>101619</td>\n",
       "      <td>1113</td>\n",
       "      <td>4893</td>\n",
       "    </tr>\n",
       "  </tbody>\n",
       "</table>\n",
       "</div>"
      ],
      "text/plain": [
       "        year          region  No. of Accidents  No. of Casualties - Dead  \\\n",
       "0 2016-01-01         Al-Baha              3618                       185   \n",
       "1 2016-01-01         Al-Jouf             10212                       245   \n",
       "2 2016-01-01       Al-Qaseem             25664                       397   \n",
       "3 2016-01-01           Assir             32684                       983   \n",
       "4 2016-01-01  Eastern_Region            101619                      1113   \n",
       "\n",
       "   No. of Casualties - Injured  \n",
       "0                         1227  \n",
       "1                          920  \n",
       "2                         1513  \n",
       "3                         2541  \n",
       "4                         4893  "
      ]
     },
     "execution_count": 38,
     "metadata": {},
     "output_type": "execute_result"
    }
   ],
   "source": [
    "tracc8_prtab.head()"
   ]
  },
  {
   "cell_type": "code",
   "execution_count": 39,
   "metadata": {},
   "outputs": [
    {
     "data": {
      "text/html": [
       "<div>\n",
       "<style scoped>\n",
       "    .dataframe tbody tr th:only-of-type {\n",
       "        vertical-align: middle;\n",
       "    }\n",
       "\n",
       "    .dataframe tbody tr th {\n",
       "        vertical-align: top;\n",
       "    }\n",
       "\n",
       "    .dataframe thead th {\n",
       "        text-align: right;\n",
       "    }\n",
       "</style>\n",
       "<table border=\"1\" class=\"dataframe\">\n",
       "  <thead>\n",
       "    <tr style=\"text-align: right;\">\n",
       "      <th></th>\n",
       "      <th>year</th>\n",
       "      <th>region</th>\n",
       "      <th>no_lic</th>\n",
       "      <th>x_lic</th>\n",
       "      <th>y_lic</th>\n",
       "    </tr>\n",
       "  </thead>\n",
       "  <tbody>\n",
       "    <tr>\n",
       "      <th>0</th>\n",
       "      <td>2012-01-01</td>\n",
       "      <td>Makkah</td>\n",
       "      <td>143954</td>\n",
       "      <td>21.628963</td>\n",
       "      <td>41.26369</td>\n",
       "    </tr>\n",
       "  </tbody>\n",
       "</table>\n",
       "</div>"
      ],
      "text/plain": [
       "        year  region  no_lic      x_lic     y_lic\n",
       "0 2012-01-01  Makkah  143954  21.628963  41.26369"
      ]
     },
     "execution_count": 39,
     "metadata": {},
     "output_type": "execute_result"
    }
   ],
   "source": [
    "drili4_8.head(1)"
   ]
  },
  {
   "cell_type": "code",
   "execution_count": 40,
   "metadata": {},
   "outputs": [],
   "source": [
    "# to make the data wide \n",
    "drili4_8_prtab = drili4_8.pivot_table(index=['year', 'region'],values='no_lic')"
   ]
  },
  {
   "cell_type": "code",
   "execution_count": 41,
   "metadata": {},
   "outputs": [],
   "source": [
    "# to remove the column name \n",
    "drili4_8_prtab.columns.name = None"
   ]
  },
  {
   "cell_type": "code",
   "execution_count": 42,
   "metadata": {},
   "outputs": [],
   "source": [
    "drili4_8_prtab.reset_index(inplace=True)"
   ]
  },
  {
   "cell_type": "code",
   "execution_count": 43,
   "metadata": {},
   "outputs": [
    {
     "data": {
      "text/html": [
       "<div>\n",
       "<style scoped>\n",
       "    .dataframe tbody tr th:only-of-type {\n",
       "        vertical-align: middle;\n",
       "    }\n",
       "\n",
       "    .dataframe tbody tr th {\n",
       "        vertical-align: top;\n",
       "    }\n",
       "\n",
       "    .dataframe thead th {\n",
       "        text-align: right;\n",
       "    }\n",
       "</style>\n",
       "<table border=\"1\" class=\"dataframe\">\n",
       "  <thead>\n",
       "    <tr style=\"text-align: right;\">\n",
       "      <th></th>\n",
       "      <th>year</th>\n",
       "      <th>region</th>\n",
       "      <th>no_lic</th>\n",
       "    </tr>\n",
       "  </thead>\n",
       "  <tbody>\n",
       "    <tr>\n",
       "      <th>0</th>\n",
       "      <td>1993-01-01</td>\n",
       "      <td>Al-Baha</td>\n",
       "      <td>3270</td>\n",
       "    </tr>\n",
       "    <tr>\n",
       "      <th>1</th>\n",
       "      <td>1993-01-01</td>\n",
       "      <td>Al-Jouf</td>\n",
       "      <td>2884</td>\n",
       "    </tr>\n",
       "    <tr>\n",
       "      <th>2</th>\n",
       "      <td>1993-01-01</td>\n",
       "      <td>Al-Qaseem</td>\n",
       "      <td>73618</td>\n",
       "    </tr>\n",
       "    <tr>\n",
       "      <th>3</th>\n",
       "      <td>1993-01-01</td>\n",
       "      <td>Assir</td>\n",
       "      <td>6226</td>\n",
       "    </tr>\n",
       "    <tr>\n",
       "      <th>4</th>\n",
       "      <td>1993-01-01</td>\n",
       "      <td>Eastern_Region</td>\n",
       "      <td>9964</td>\n",
       "    </tr>\n",
       "  </tbody>\n",
       "</table>\n",
       "</div>"
      ],
      "text/plain": [
       "        year          region  no_lic\n",
       "0 1993-01-01         Al-Baha    3270\n",
       "1 1993-01-01         Al-Jouf    2884\n",
       "2 1993-01-01       Al-Qaseem   73618\n",
       "3 1993-01-01           Assir    6226\n",
       "4 1993-01-01  Eastern_Region    9964"
      ]
     },
     "execution_count": 43,
     "metadata": {},
     "output_type": "execute_result"
    }
   ],
   "source": [
    "drili4_8_prtab.head()"
   ]
  },
  {
   "cell_type": "markdown",
   "metadata": {},
   "source": [
    "#### 11. Merge dataframes\n",
    "\n",
    "Join the Driving Licenses & Traffic Accidents dataframes using the **region** and **year** in each dataframe as the key. Assign this to a new variable. Which join should you use to preserve the most data?"
   ]
  },
  {
   "cell_type": "code",
   "execution_count": 44,
   "metadata": {},
   "outputs": [],
   "source": [
    "#code\n",
    "# to merge the two dataframe \n",
    "mergedrtr= pd.merge(drili4_8_prtab ,tracc8_prtab, on=['year','region'],sort=True ,how='inner')"
   ]
  },
  {
   "cell_type": "code",
   "execution_count": 45,
   "metadata": {},
   "outputs": [
    {
     "data": {
      "text/html": [
       "<div>\n",
       "<style scoped>\n",
       "    .dataframe tbody tr th:only-of-type {\n",
       "        vertical-align: middle;\n",
       "    }\n",
       "\n",
       "    .dataframe tbody tr th {\n",
       "        vertical-align: top;\n",
       "    }\n",
       "\n",
       "    .dataframe thead th {\n",
       "        text-align: right;\n",
       "    }\n",
       "</style>\n",
       "<table border=\"1\" class=\"dataframe\">\n",
       "  <thead>\n",
       "    <tr style=\"text-align: right;\">\n",
       "      <th></th>\n",
       "      <th>year</th>\n",
       "      <th>region</th>\n",
       "      <th>no_lic</th>\n",
       "      <th>No. of Accidents</th>\n",
       "      <th>No. of Casualties - Dead</th>\n",
       "      <th>No. of Casualties - Injured</th>\n",
       "    </tr>\n",
       "  </thead>\n",
       "  <tbody>\n",
       "    <tr>\n",
       "      <th>0</th>\n",
       "      <td>2016-01-01</td>\n",
       "      <td>Al-Baha</td>\n",
       "      <td>4614</td>\n",
       "      <td>3618</td>\n",
       "      <td>185</td>\n",
       "      <td>1227</td>\n",
       "    </tr>\n",
       "    <tr>\n",
       "      <th>1</th>\n",
       "      <td>2016-01-01</td>\n",
       "      <td>Al-Jouf</td>\n",
       "      <td>9371</td>\n",
       "      <td>10212</td>\n",
       "      <td>245</td>\n",
       "      <td>920</td>\n",
       "    </tr>\n",
       "    <tr>\n",
       "      <th>2</th>\n",
       "      <td>2016-01-01</td>\n",
       "      <td>Al-Qaseem</td>\n",
       "      <td>9180</td>\n",
       "      <td>25664</td>\n",
       "      <td>397</td>\n",
       "      <td>1513</td>\n",
       "    </tr>\n",
       "    <tr>\n",
       "      <th>3</th>\n",
       "      <td>2016-01-01</td>\n",
       "      <td>Assir</td>\n",
       "      <td>41367</td>\n",
       "      <td>32684</td>\n",
       "      <td>983</td>\n",
       "      <td>2541</td>\n",
       "    </tr>\n",
       "    <tr>\n",
       "      <th>4</th>\n",
       "      <td>2016-01-01</td>\n",
       "      <td>Eastern_Region</td>\n",
       "      <td>142307</td>\n",
       "      <td>101619</td>\n",
       "      <td>1113</td>\n",
       "      <td>4893</td>\n",
       "    </tr>\n",
       "  </tbody>\n",
       "</table>\n",
       "</div>"
      ],
      "text/plain": [
       "        year          region  no_lic  No. of Accidents  \\\n",
       "0 2016-01-01         Al-Baha    4614              3618   \n",
       "1 2016-01-01         Al-Jouf    9371             10212   \n",
       "2 2016-01-01       Al-Qaseem    9180             25664   \n",
       "3 2016-01-01           Assir   41367             32684   \n",
       "4 2016-01-01  Eastern_Region  142307            101619   \n",
       "\n",
       "   No. of Casualties - Dead  No. of Casualties - Injured  \n",
       "0                       185                         1227  \n",
       "1                       245                          920  \n",
       "2                       397                         1513  \n",
       "3                       983                         2541  \n",
       "4                      1113                         4893  "
      ]
     },
     "execution_count": 45,
     "metadata": {},
     "output_type": "execute_result"
    }
   ],
   "source": [
    "mergedrtr.head()"
   ]
  },
  {
   "cell_type": "code",
   "execution_count": 46,
   "metadata": {},
   "outputs": [
    {
     "data": {
      "text/html": [
       "<div>\n",
       "<style scoped>\n",
       "    .dataframe tbody tr th:only-of-type {\n",
       "        vertical-align: middle;\n",
       "    }\n",
       "\n",
       "    .dataframe tbody tr th {\n",
       "        vertical-align: top;\n",
       "    }\n",
       "\n",
       "    .dataframe thead th {\n",
       "        text-align: right;\n",
       "    }\n",
       "</style>\n",
       "<table border=\"1\" class=\"dataframe\">\n",
       "  <thead>\n",
       "    <tr style=\"text-align: right;\">\n",
       "      <th></th>\n",
       "      <th>year</th>\n",
       "      <th>region</th>\n",
       "      <th>no_lic</th>\n",
       "      <th>No. of Accidents</th>\n",
       "      <th>No. of Casualties - Dead</th>\n",
       "      <th>No. of Casualties - Injured</th>\n",
       "    </tr>\n",
       "  </thead>\n",
       "  <tbody>\n",
       "    <tr>\n",
       "      <th>21</th>\n",
       "      <td>2017-01-01</td>\n",
       "      <td>Makkah</td>\n",
       "      <td>142487</td>\n",
       "      <td>145541</td>\n",
       "      <td>1641</td>\n",
       "      <td>10623</td>\n",
       "    </tr>\n",
       "    <tr>\n",
       "      <th>22</th>\n",
       "      <td>2017-01-01</td>\n",
       "      <td>Najran</td>\n",
       "      <td>13825</td>\n",
       "      <td>3193</td>\n",
       "      <td>194</td>\n",
       "      <td>766</td>\n",
       "    </tr>\n",
       "    <tr>\n",
       "      <th>23</th>\n",
       "      <td>2017-01-01</td>\n",
       "      <td>Northern Boarder</td>\n",
       "      <td>5280</td>\n",
       "      <td>11540</td>\n",
       "      <td>112</td>\n",
       "      <td>374</td>\n",
       "    </tr>\n",
       "    <tr>\n",
       "      <th>24</th>\n",
       "      <td>2017-01-01</td>\n",
       "      <td>Riyadh</td>\n",
       "      <td>495307</td>\n",
       "      <td>99925</td>\n",
       "      <td>1399</td>\n",
       "      <td>4540</td>\n",
       "    </tr>\n",
       "    <tr>\n",
       "      <th>25</th>\n",
       "      <td>2017-01-01</td>\n",
       "      <td>Tabouk</td>\n",
       "      <td>10232</td>\n",
       "      <td>11713</td>\n",
       "      <td>348</td>\n",
       "      <td>1243</td>\n",
       "    </tr>\n",
       "  </tbody>\n",
       "</table>\n",
       "</div>"
      ],
      "text/plain": [
       "         year            region  no_lic  No. of Accidents  \\\n",
       "21 2017-01-01            Makkah  142487            145541   \n",
       "22 2017-01-01            Najran   13825              3193   \n",
       "23 2017-01-01  Northern Boarder    5280             11540   \n",
       "24 2017-01-01            Riyadh  495307             99925   \n",
       "25 2017-01-01            Tabouk   10232             11713   \n",
       "\n",
       "    No. of Casualties - Dead  No. of Casualties - Injured  \n",
       "21                      1641                        10623  \n",
       "22                       194                          766  \n",
       "23                       112                          374  \n",
       "24                      1399                         4540  \n",
       "25                       348                         1243  "
      ]
     },
     "execution_count": 46,
     "metadata": {},
     "output_type": "execute_result"
    }
   ],
   "source": [
    "mergedrtr.tail()"
   ]
  },
  {
   "cell_type": "code",
   "execution_count": 47,
   "metadata": {},
   "outputs": [],
   "source": [
    "# rename \n",
    "mergedrtr.columns=['year', 'region', 'no_lic', 'no_acci','no_dead', 'no_injured']"
   ]
  },
  {
   "cell_type": "code",
   "execution_count": 48,
   "metadata": {},
   "outputs": [
    {
     "data": {
      "text/html": [
       "<div>\n",
       "<style scoped>\n",
       "    .dataframe tbody tr th:only-of-type {\n",
       "        vertical-align: middle;\n",
       "    }\n",
       "\n",
       "    .dataframe tbody tr th {\n",
       "        vertical-align: top;\n",
       "    }\n",
       "\n",
       "    .dataframe thead th {\n",
       "        text-align: right;\n",
       "    }\n",
       "</style>\n",
       "<table border=\"1\" class=\"dataframe\">\n",
       "  <thead>\n",
       "    <tr style=\"text-align: right;\">\n",
       "      <th></th>\n",
       "      <th>year</th>\n",
       "      <th>region</th>\n",
       "      <th>no_lic</th>\n",
       "      <th>no_acci</th>\n",
       "      <th>no_dead</th>\n",
       "      <th>no_injured</th>\n",
       "    </tr>\n",
       "  </thead>\n",
       "  <tbody>\n",
       "    <tr>\n",
       "      <th>0</th>\n",
       "      <td>2016-01-01</td>\n",
       "      <td>Al-Baha</td>\n",
       "      <td>4614</td>\n",
       "      <td>3618</td>\n",
       "      <td>185</td>\n",
       "      <td>1227</td>\n",
       "    </tr>\n",
       "    <tr>\n",
       "      <th>1</th>\n",
       "      <td>2016-01-01</td>\n",
       "      <td>Al-Jouf</td>\n",
       "      <td>9371</td>\n",
       "      <td>10212</td>\n",
       "      <td>245</td>\n",
       "      <td>920</td>\n",
       "    </tr>\n",
       "    <tr>\n",
       "      <th>2</th>\n",
       "      <td>2016-01-01</td>\n",
       "      <td>Al-Qaseem</td>\n",
       "      <td>9180</td>\n",
       "      <td>25664</td>\n",
       "      <td>397</td>\n",
       "      <td>1513</td>\n",
       "    </tr>\n",
       "    <tr>\n",
       "      <th>3</th>\n",
       "      <td>2016-01-01</td>\n",
       "      <td>Assir</td>\n",
       "      <td>41367</td>\n",
       "      <td>32684</td>\n",
       "      <td>983</td>\n",
       "      <td>2541</td>\n",
       "    </tr>\n",
       "    <tr>\n",
       "      <th>4</th>\n",
       "      <td>2016-01-01</td>\n",
       "      <td>Eastern_Region</td>\n",
       "      <td>142307</td>\n",
       "      <td>101619</td>\n",
       "      <td>1113</td>\n",
       "      <td>4893</td>\n",
       "    </tr>\n",
       "  </tbody>\n",
       "</table>\n",
       "</div>"
      ],
      "text/plain": [
       "        year          region  no_lic  no_acci  no_dead  no_injured\n",
       "0 2016-01-01         Al-Baha    4614     3618      185        1227\n",
       "1 2016-01-01         Al-Jouf    9371    10212      245         920\n",
       "2 2016-01-01       Al-Qaseem    9180    25664      397        1513\n",
       "3 2016-01-01           Assir   41367    32684      983        2541\n",
       "4 2016-01-01  Eastern_Region  142307   101619     1113        4893"
      ]
     },
     "execution_count": 48,
     "metadata": {},
     "output_type": "execute_result"
    }
   ],
   "source": [
    "mergedrtr.head()"
   ]
  },
  {
   "cell_type": "code",
   "execution_count": 49,
   "metadata": {},
   "outputs": [
    {
     "data": {
      "text/html": [
       "<div>\n",
       "<style scoped>\n",
       "    .dataframe tbody tr th:only-of-type {\n",
       "        vertical-align: middle;\n",
       "    }\n",
       "\n",
       "    .dataframe tbody tr th {\n",
       "        vertical-align: top;\n",
       "    }\n",
       "\n",
       "    .dataframe thead th {\n",
       "        text-align: right;\n",
       "    }\n",
       "</style>\n",
       "<table border=\"1\" class=\"dataframe\">\n",
       "  <thead>\n",
       "    <tr style=\"text-align: right;\">\n",
       "      <th></th>\n",
       "      <th>year</th>\n",
       "      <th>region</th>\n",
       "      <th>no_lic</th>\n",
       "      <th>no_acci</th>\n",
       "      <th>no_dead</th>\n",
       "      <th>no_injured</th>\n",
       "    </tr>\n",
       "  </thead>\n",
       "  <tbody>\n",
       "    <tr>\n",
       "      <th>21</th>\n",
       "      <td>2017-01-01</td>\n",
       "      <td>Makkah</td>\n",
       "      <td>142487</td>\n",
       "      <td>145541</td>\n",
       "      <td>1641</td>\n",
       "      <td>10623</td>\n",
       "    </tr>\n",
       "    <tr>\n",
       "      <th>22</th>\n",
       "      <td>2017-01-01</td>\n",
       "      <td>Najran</td>\n",
       "      <td>13825</td>\n",
       "      <td>3193</td>\n",
       "      <td>194</td>\n",
       "      <td>766</td>\n",
       "    </tr>\n",
       "    <tr>\n",
       "      <th>23</th>\n",
       "      <td>2017-01-01</td>\n",
       "      <td>Northern Boarder</td>\n",
       "      <td>5280</td>\n",
       "      <td>11540</td>\n",
       "      <td>112</td>\n",
       "      <td>374</td>\n",
       "    </tr>\n",
       "    <tr>\n",
       "      <th>24</th>\n",
       "      <td>2017-01-01</td>\n",
       "      <td>Riyadh</td>\n",
       "      <td>495307</td>\n",
       "      <td>99925</td>\n",
       "      <td>1399</td>\n",
       "      <td>4540</td>\n",
       "    </tr>\n",
       "    <tr>\n",
       "      <th>25</th>\n",
       "      <td>2017-01-01</td>\n",
       "      <td>Tabouk</td>\n",
       "      <td>10232</td>\n",
       "      <td>11713</td>\n",
       "      <td>348</td>\n",
       "      <td>1243</td>\n",
       "    </tr>\n",
       "  </tbody>\n",
       "</table>\n",
       "</div>"
      ],
      "text/plain": [
       "         year            region  no_lic  no_acci  no_dead  no_injured\n",
       "21 2017-01-01            Makkah  142487   145541     1641       10623\n",
       "22 2017-01-01            Najran   13825     3193      194         766\n",
       "23 2017-01-01  Northern Boarder    5280    11540      112         374\n",
       "24 2017-01-01            Riyadh  495307    99925     1399        4540\n",
       "25 2017-01-01            Tabouk   10232    11713      348        1243"
      ]
     },
     "execution_count": 49,
     "metadata": {},
     "output_type": "execute_result"
    }
   ],
   "source": [
    "mergedrtr.tail()"
   ]
  },
  {
   "cell_type": "markdown",
   "metadata": {},
   "source": [
    "#### 12. Save your cleaned, merged dataframe\n",
    "\n",
    "\n",
    "Use a relative path to save out your data as `combined_datasets.csv`."
   ]
  },
  {
   "cell_type": "code",
   "execution_count": 50,
   "metadata": {},
   "outputs": [],
   "source": [
    "#code\n",
    "# save the data\n",
    "mergedrtr.to_csv('..\\data\\combined_datasets.csv')"
   ]
  },
  {
   "cell_type": "markdown",
   "metadata": {},
   "source": [
    "## Exploratory Data Analysis\n",
    "\n",
    "\n",
    "### Summary Statistics\n",
    "Transpose the output of pandas `describe` method to create a quick overview of each numeric feature."
   ]
  },
  {
   "cell_type": "code",
   "execution_count": 51,
   "metadata": {},
   "outputs": [
    {
     "data": {
      "text/html": [
       "<div>\n",
       "<style scoped>\n",
       "    .dataframe tbody tr th:only-of-type {\n",
       "        vertical-align: middle;\n",
       "    }\n",
       "\n",
       "    .dataframe tbody tr th {\n",
       "        vertical-align: top;\n",
       "    }\n",
       "\n",
       "    .dataframe thead th {\n",
       "        text-align: right;\n",
       "    }\n",
       "</style>\n",
       "<table border=\"1\" class=\"dataframe\">\n",
       "  <thead>\n",
       "    <tr style=\"text-align: right;\">\n",
       "      <th></th>\n",
       "      <th>no_lic</th>\n",
       "      <th>no_acci</th>\n",
       "      <th>no_dead</th>\n",
       "      <th>no_injured</th>\n",
       "    </tr>\n",
       "  </thead>\n",
       "  <tbody>\n",
       "    <tr>\n",
       "      <th>count</th>\n",
       "      <td>26.000000</td>\n",
       "      <td>26.000000</td>\n",
       "      <td>26.000000</td>\n",
       "      <td>26.000000</td>\n",
       "    </tr>\n",
       "    <tr>\n",
       "      <th>mean</th>\n",
       "      <td>62507.000000</td>\n",
       "      <td>38225.692308</td>\n",
       "      <td>635.384615</td>\n",
       "      <td>2743.038462</td>\n",
       "    </tr>\n",
       "    <tr>\n",
       "      <th>std</th>\n",
       "      <td>107293.917762</td>\n",
       "      <td>46493.705035</td>\n",
       "      <td>549.783381</td>\n",
       "      <td>2922.641127</td>\n",
       "    </tr>\n",
       "    <tr>\n",
       "      <th>min</th>\n",
       "      <td>2153.000000</td>\n",
       "      <td>1414.000000</td>\n",
       "      <td>112.000000</td>\n",
       "      <td>374.000000</td>\n",
       "    </tr>\n",
       "    <tr>\n",
       "      <th>25%</th>\n",
       "      <td>8363.250000</td>\n",
       "      <td>10276.250000</td>\n",
       "      <td>241.250000</td>\n",
       "      <td>923.000000</td>\n",
       "    </tr>\n",
       "    <tr>\n",
       "      <th>50%</th>\n",
       "      <td>16085.000000</td>\n",
       "      <td>16050.500000</td>\n",
       "      <td>415.500000</td>\n",
       "      <td>1618.500000</td>\n",
       "    </tr>\n",
       "    <tr>\n",
       "      <th>75%</th>\n",
       "      <td>51222.000000</td>\n",
       "      <td>30981.250000</td>\n",
       "      <td>929.250000</td>\n",
       "      <td>3784.000000</td>\n",
       "    </tr>\n",
       "    <tr>\n",
       "      <th>max</th>\n",
       "      <td>495307.000000</td>\n",
       "      <td>145541.000000</td>\n",
       "      <td>2243.000000</td>\n",
       "      <td>12383.000000</td>\n",
       "    </tr>\n",
       "  </tbody>\n",
       "</table>\n",
       "</div>"
      ],
      "text/plain": [
       "              no_lic        no_acci      no_dead    no_injured\n",
       "count      26.000000      26.000000    26.000000     26.000000\n",
       "mean    62507.000000   38225.692308   635.384615   2743.038462\n",
       "std    107293.917762   46493.705035   549.783381   2922.641127\n",
       "min      2153.000000    1414.000000   112.000000    374.000000\n",
       "25%      8363.250000   10276.250000   241.250000    923.000000\n",
       "50%     16085.000000   16050.500000   415.500000   1618.500000\n",
       "75%     51222.000000   30981.250000   929.250000   3784.000000\n",
       "max    495307.000000  145541.000000  2243.000000  12383.000000"
      ]
     },
     "execution_count": 51,
     "metadata": {},
     "output_type": "execute_result"
    }
   ],
   "source": [
    "#Code:\n",
    "mergedrtr.describe()"
   ]
  },
  {
   "cell_type": "markdown",
   "metadata": {},
   "source": [
    "#### Manually calculate standard deviation\n",
    "\n",
    "$$\\sigma = \\sqrt{\\frac{1}{n}\\sum_{i=1}^n(x_i - \\mu)^2}$$\n",
    "\n",
    "- Write a function to calculate standard deviation using the formula above"
   ]
  },
  {
   "cell_type": "code",
   "execution_count": 52,
   "metadata": {},
   "outputs": [],
   "source": [
    "#code\n",
    "def stdev(values):\n",
    "    length = len(values) # the length of value\n",
    "    m = np.mean(values) # the Average of value \n",
    "    total_sum = 0\n",
    "    for i in range(length):\n",
    "        total_sum += (values[i]-m)**2 #standard deviation\n",
    "    underroot = total_sum*(1/length)\n",
    "    root = underroot ** (1/2)\n",
    "    return root"
   ]
  },
  {
   "cell_type": "markdown",
   "metadata": {},
   "source": [
    "- Use a **dictionary comprehension** to apply your standard deviation function to each numeric column in the dataframe.  **No loops**  \n",
    "- Assign the output to variable `sd` as a dictionary where: \n",
    "    - Each column name is now a key \n",
    "    - That standard deviation of the column is the value \n",
    "     \n",
    "*Example Output :* `{'Driving_Licenses_x': 120, 'Traffic_Accidents_x': 120, ...}`"
   ]
  },
  {
   "cell_type": "code",
   "execution_count": 53,
   "metadata": {},
   "outputs": [
    {
     "data": {
      "text/plain": [
       "{'no_lic': 105210.34237659337,\n",
       " 'no_acci': 45590.82869880505,\n",
       " 'no_dead': 539.1069593406002,\n",
       " 'no_injured': 2865.8854113220236}"
      ]
     },
     "execution_count": 53,
     "metadata": {},
     "output_type": "execute_result"
    }
   ],
   "source": [
    "#Code:\n",
    "{column: stdev(mergedrtr[column]) for column in mergedrtr[['no_lic','no_acci','no_dead','no_injured']].columns}\n"
   ]
  },
  {
   "cell_type": "code",
   "execution_count": 54,
   "metadata": {},
   "outputs": [
    {
     "data": {
      "text/plain": [
       "no_lic        105210.342377\n",
       "no_acci        45590.828699\n",
       "no_dead          539.106959\n",
       "no_injured      2865.885411\n",
       "dtype: float64"
      ]
     },
     "execution_count": 54,
     "metadata": {},
     "output_type": "execute_result"
    }
   ],
   "source": [
    "np.std(mergedrtr[['no_lic','no_acci','no_dead','no_injured']])"
   ]
  },
  {
   "cell_type": "code",
   "execution_count": 55,
   "metadata": {},
   "outputs": [
    {
     "data": {
      "text/html": [
       "<div>\n",
       "<style scoped>\n",
       "    .dataframe tbody tr th:only-of-type {\n",
       "        vertical-align: middle;\n",
       "    }\n",
       "\n",
       "    .dataframe tbody tr th {\n",
       "        vertical-align: top;\n",
       "    }\n",
       "\n",
       "    .dataframe thead th {\n",
       "        text-align: right;\n",
       "    }\n",
       "</style>\n",
       "<table border=\"1\" class=\"dataframe\">\n",
       "  <thead>\n",
       "    <tr style=\"text-align: right;\">\n",
       "      <th></th>\n",
       "      <th>no_lic</th>\n",
       "      <th>no_acci</th>\n",
       "      <th>no_dead</th>\n",
       "      <th>no_injured</th>\n",
       "    </tr>\n",
       "  </thead>\n",
       "  <tbody>\n",
       "    <tr>\n",
       "      <th>count</th>\n",
       "      <td>26.000000</td>\n",
       "      <td>26.000000</td>\n",
       "      <td>26.000000</td>\n",
       "      <td>26.000000</td>\n",
       "    </tr>\n",
       "    <tr>\n",
       "      <th>mean</th>\n",
       "      <td>62507.000000</td>\n",
       "      <td>38225.692308</td>\n",
       "      <td>635.384615</td>\n",
       "      <td>2743.038462</td>\n",
       "    </tr>\n",
       "    <tr>\n",
       "      <th>std</th>\n",
       "      <td>107293.917762</td>\n",
       "      <td>46493.705035</td>\n",
       "      <td>549.783381</td>\n",
       "      <td>2922.641127</td>\n",
       "    </tr>\n",
       "    <tr>\n",
       "      <th>min</th>\n",
       "      <td>2153.000000</td>\n",
       "      <td>1414.000000</td>\n",
       "      <td>112.000000</td>\n",
       "      <td>374.000000</td>\n",
       "    </tr>\n",
       "    <tr>\n",
       "      <th>25%</th>\n",
       "      <td>8363.250000</td>\n",
       "      <td>10276.250000</td>\n",
       "      <td>241.250000</td>\n",
       "      <td>923.000000</td>\n",
       "    </tr>\n",
       "    <tr>\n",
       "      <th>50%</th>\n",
       "      <td>16085.000000</td>\n",
       "      <td>16050.500000</td>\n",
       "      <td>415.500000</td>\n",
       "      <td>1618.500000</td>\n",
       "    </tr>\n",
       "    <tr>\n",
       "      <th>75%</th>\n",
       "      <td>51222.000000</td>\n",
       "      <td>30981.250000</td>\n",
       "      <td>929.250000</td>\n",
       "      <td>3784.000000</td>\n",
       "    </tr>\n",
       "    <tr>\n",
       "      <th>max</th>\n",
       "      <td>495307.000000</td>\n",
       "      <td>145541.000000</td>\n",
       "      <td>2243.000000</td>\n",
       "      <td>12383.000000</td>\n",
       "    </tr>\n",
       "  </tbody>\n",
       "</table>\n",
       "</div>"
      ],
      "text/plain": [
       "              no_lic        no_acci      no_dead    no_injured\n",
       "count      26.000000      26.000000    26.000000     26.000000\n",
       "mean    62507.000000   38225.692308   635.384615   2743.038462\n",
       "std    107293.917762   46493.705035   549.783381   2922.641127\n",
       "min      2153.000000    1414.000000   112.000000    374.000000\n",
       "25%      8363.250000   10276.250000   241.250000    923.000000\n",
       "50%     16085.000000   16050.500000   415.500000   1618.500000\n",
       "75%     51222.000000   30981.250000   929.250000   3784.000000\n",
       "max    495307.000000  145541.000000  2243.000000  12383.000000"
      ]
     },
     "execution_count": 55,
     "metadata": {},
     "output_type": "execute_result"
    }
   ],
   "source": [
    "mergedrtr.describe()"
   ]
  },
  {
   "cell_type": "markdown",
   "metadata": {},
   "source": [
    "Do your manually calculated standard deviations match up with the output from pandas `describe`? What about numpy's `std` method?"
   ]
  },
  {
   "cell_type": "markdown",
   "metadata": {},
   "source": [
    "### Answer:\n",
    "the same output for std and manually calculated but not the same with describe"
   ]
  },
  {
   "cell_type": "markdown",
   "metadata": {},
   "source": [
    "#### Investigate trends in the data\n",
    "Using sorting and/or masking (along with the `.head` method to not print our entire dataframe), consider the following questions:\n",
    "\n",
    "- Which regions have the highest and lowest Driving Licenses based on years (1993 - 2017)\n",
    "- Which regions have the highest and lowest mean Traffic Accidents numbers for years (2016 - 2017)\n",
    "- What are the regions that have more Driving Licenses issued in each year than the year average?\n",
    "- What are the regions that have more Traffic Accidents happened in each year than the year average?\n",
    "\n",
    "Based on what you've just observed, have you identified any regions that you're especially interested in? **Make a note of these and state *why* you think they're interesting**.\n",
    "\n",
    "**You should comment on your findings at each step in a markdown cell below your code block**. Make sure you include at least one example of sorting your dataframe by a column, and one example of using boolean filtering (i.e., masking) to select a subset of the dataframe."
   ]
  },
  {
   "cell_type": "code",
   "execution_count": 56,
   "metadata": {},
   "outputs": [
    {
     "data": {
      "text/plain": [
       "year      1993-01-01 00:00:00\n",
       "region                Al-Baha\n",
       "no_lic                    915\n",
       "dtype: object"
      ]
     },
     "execution_count": 56,
     "metadata": {},
     "output_type": "execute_result"
    }
   ],
   "source": [
    "#code\n",
    "# Which regions have the highest and lowest Driving Licenses based on years (1993 - 2017)\n",
    "\n",
    "drili4_8_prtab.sort_values('no_lic', ascending=False).tail(1)\n",
    "drili4_8_prtab.sort_values('no_lic').min()"
   ]
  },
  {
   "cell_type": "code",
   "execution_count": 57,
   "metadata": {},
   "outputs": [
    {
     "data": {
      "text/plain": [
       "year      2017-01-01 00:00:00\n",
       "region                 Tabouk\n",
       "no_lic                 495307\n",
       "dtype: object"
      ]
     },
     "execution_count": 57,
     "metadata": {},
     "output_type": "execute_result"
    }
   ],
   "source": [
    "#What are the regions that have more Driving Licenses issued in each year than the year average?\n",
    "\n",
    "drili4_8_prtab.sort_values('no_lic', ascending=False).tail(1)\n",
    "drili4_8_prtab.sort_values('no_lic').max()"
   ]
  },
  {
   "cell_type": "code",
   "execution_count": 58,
   "metadata": {},
   "outputs": [
    {
     "data": {
      "text/plain": [
       "year                           2016-01-01 00:00:00\n",
       "region                                     Al-Baha\n",
       "No. of Accidents                              1414\n",
       "No. of Casualties - Dead                       112\n",
       "No. of Casualties - Injured                    374\n",
       "dtype: object"
      ]
     },
     "execution_count": 58,
     "metadata": {},
     "output_type": "execute_result"
    }
   ],
   "source": [
    "#Which regions have the highest and lowest mean Traffic Accidents numbers for years (2016 - 2017)\n",
    "\n",
    "tracc8_prtab.sort_values('No. of Accidents', ascending=False).tail(1)\n",
    "tracc8_prtab.sort_values('No. of Accidents').min()"
   ]
  },
  {
   "cell_type": "code",
   "execution_count": 59,
   "metadata": {},
   "outputs": [
    {
     "data": {
      "text/plain": [
       "year                           2017-01-01 00:00:00\n",
       "region                                      Tabouk\n",
       "No. of Accidents                            145541\n",
       "No. of Casualties - Dead                      2243\n",
       "No. of Casualties - Injured                  12383\n",
       "dtype: object"
      ]
     },
     "execution_count": 59,
     "metadata": {},
     "output_type": "execute_result"
    }
   ],
   "source": [
    "#What are the regions that have more Traffic Accidents happened in each year than the year average?\n",
    "tracc8_prtab.sort_values('No. of Accidents', ascending=False).tail(1)\n",
    "tracc8_prtab.sort_values('No. of Accidents').max()"
   ]
  },
  {
   "cell_type": "markdown",
   "metadata": {},
   "source": [
    "## Visualize the data\n",
    "\n",
    "There's not a magic bullet recommendation for the right number of plots to understand a given dataset, but visualizing your data is *always* a good idea. Not only does it allow you to quickly convey your findings (even if you have a non-technical audience), it will often reveal trends in your data that escaped you when you were looking only at numbers.\n",
    "\n",
    "Some recommendations on plotting:\n",
    "- Plots have titles\n",
    "- Plots have axis labels\n",
    "- Plots have appropriate tick labels\n",
    "- All text is legible in a plot\n",
    "- Plots demonstrate meaningful and valid relationships\n",
    "- Plots are interpreted to aid understanding\n",
    "\n",
    "There is such a thing as too many plots, and there are a *lot* of bad plots. You might make some! (But hopefully not with the guided prompts below)."
   ]
  },
  {
   "cell_type": "markdown",
   "metadata": {},
   "source": [
    "#### Use Seaborn's heatmap with pandas `.corr()` to visualize correlations between all numeric features\n",
    "\n",
    "Heatmaps are generally not appropriate for presentations, and should often be excluded from reports as they can be visually overwhelming. **However**, they can be extremely useful in identify relationships of potential interest (as well as identifying potential collinearity before modeling).\n",
    "\n",
    "*example*:\n",
    "```python\n",
    "sns.heatmap(df.corr())\n",
    "```\n",
    "\n",
    "Please take time to format your output, adding a title. Look through some of the additional arguments and options. (Axis labels aren't really necessary, as long as the title is informative)."
   ]
  },
  {
   "cell_type": "code",
   "execution_count": 60,
   "metadata": {
    "scrolled": false
   },
   "outputs": [
    {
     "data": {
      "image/png": "[encoded data removed]",
      "text/plain": [
       "<Figure size 792x504 with 2 Axes>"
      ]
     },
     "metadata": {
      "needs_background": "light"
     },
     "output_type": "display_data"
    }
   ],
   "source": [
    "# heatmap of the merge data frame\n",
    "\n",
    "corrs = mergedrtr.corr()\n",
    "fig, ax = plt.subplots(figsize=(11, 7))\n",
    "mask = np.zeros_like(corrs, dtype=np.bool)\n",
    "mask[np.triu_indices_from(mask)] = True\n",
    "ax = sns.heatmap(corrs, mask=mask, annot=True,cmap=\"RdBu\", center=0, vmin=-1)\n",
    "ax.set_xticklabels(ax.xaxis.get_ticklabels(), fontsize=14, rotation=30)\n",
    "\n",
    "ax.set_yticklabels(ax.yaxis.get_ticklabels(), fontsize=14, rotation=0)\n",
    "plt.savefig('fnamxe5.png')\n",
    "plt.show()\n"
   ]
  },
  {
   "cell_type": "markdown",
   "metadata": {},
   "source": [
    "#### Define a custom function to subplot histograms\n",
    "\n",
    "We should write a function that will take the names of 2+ columns and subplot histograms. While you can use pandas plotting or Seaborn here, matplotlib gives you greater control over all aspects of your plots.\n",
    "\n",
    "[Helpful Link for Plotting Multiple Figures](https://matplotlib.org/users/pyplot_tutorial.html#working-with-multiple-figures-and-axes)\n",
    "\n",
    "Here's some starter code:"
   ]
  },
  {
   "cell_type": "code",
   "execution_count": 61,
   "metadata": {},
   "outputs": [],
   "source": [
    "\n",
    "def subplot_histograms(dataframe, list_of_columns, list_of_titles, list_of_xlabels, list_of_ylabels):\n",
    "    nrows = int(np.ceil(len(list_of_columns)/2)) \n",
    "    fig, ax = plt.subplots(nrows=nrows, ncols=2, figsize=(10,6)) \n",
    "    ax = ax.ravel() \n",
    "    for i, column in enumerate(list_of_columns): \n",
    "        ax[i].hist(dataframe[column]) \n",
    "        ax[i].set_xlabel(list_of_xlabels[i])\n",
    "        plt.xticks(rotation=50)\n",
    "        ax[i].set_ylabel(list_of_ylabels[i])\n",
    "        ax[i].set_title(list_of_titles[i]) "
   ]
  },
  {
   "cell_type": "markdown",
   "metadata": {},
   "source": [
    "#### Plot and interpret histograms \n",
    "For each of the following:\n",
    "- Driving Licenses number\n",
    "- Traffic Accidents number\n",
    "\n",
    "Please plot two additional histograms that will help with your understanding of the data"
   ]
  },
  {
   "cell_type": "code",
   "execution_count": 62,
   "metadata": {},
   "outputs": [
    {
     "data": {
      "image/png": "[encoded data removed]",
      "text/plain": [
       "<Figure size 720x432 with 2 Axes>"
      ]
     },
     "metadata": {
      "needs_background": "light"
     },
     "output_type": "display_data"
    }
   ],
   "source": [
    "\n",
    "subplot_histograms(mergedrtr, ['no_lic', 'no_acci'], ['accidents histogram', 'licenses histogram'],\n",
    "                   ['no_acci', 'no_lic'], ['frequency', 'frequency'])\n",
    "plt.savefig('fname4.png');"
   ]
  },
  {
   "cell_type": "code",
   "execution_count": 63,
   "metadata": {},
   "outputs": [
    {
     "data": {
      "image/png": "[encoded data removed]",
      "text/plain": [
       "<Figure size 576x576 with 4 Axes>"
      ]
     },
     "metadata": {
      "needs_background": "light"
     },
     "output_type": "display_data"
    }
   ],
   "source": [
    "mergedrtr.hist(column=['no_acci','no_dead','no_injured','no_lic'],figsize=(8,8) , bins=20);\n",
    "plt.savefig('fname3.png');"
   ]
  },
  {
   "cell_type": "markdown",
   "metadata": {},
   "source": [
    "#### Plot and interpret scatter plots\n",
    "\n",
    "For each of the following:\n",
    "- Driving Licenses vs. Traffic Accidents for 2017\n",
    "- Driving Licenses vs. Traffic Accidents for 2016\n",
    "- Driving Licenses for 2016 vs 2017\n",
    "- Traffic Accidents for 2016 vs 2017\n",
    "\n",
    "Plot the two variables against each other using matplotlib or Seaborn\n",
    "\n",
    "Your plots should show:\n",
    "- Two clearly labeled axes\n",
    "- A proper title\n",
    "- Using colors and symbols that are clear and unmistakable\n",
    "\n",
    "**Feel free to write a custom function, and subplot if you'd like.** Functions save both time and space.\n"
   ]
  },
  {
   "cell_type": "code",
   "execution_count": 64,
   "metadata": {},
   "outputs": [
    {
     "data": {
      "image/png": "[encoded data removed]",
      "text/plain": [
       "<Figure size 864x864 with 4 Axes>"
      ]
     },
     "metadata": {
      "needs_background": "light"
     },
     "output_type": "display_data"
    }
   ],
   "source": [
    "# Code\n",
    "fig, ax = plt.subplots(ncols=2, nrows=2, figsize=(12, 12))\n",
    "sns.scatterplot(mergedrtr.loc[mergedrtr.year == '2017','no_lic'], mergedrtr.loc[mergedrtr.year == '2017', 'no_acci'], ax=ax[0,0])\n",
    "sns.scatterplot(mergedrtr.loc[mergedrtr.year == '2016','no_lic'], mergedrtr.loc[mergedrtr.year == '2016', 'no_acci'], ax=ax[0,1])\n",
    "sns.scatterplot(mergedrtr.loc[mergedrtr.year == '2016','no_lic'].values, mergedrtr.loc[mergedrtr.year == '2017', 'no_lic'].values, ax=ax[1,0])\n",
    "sns.scatterplot(mergedrtr.loc[mergedrtr.year == '2016','no_acci'].values, mergedrtr.loc[mergedrtr.year == '2017', 'no_acci'].values, ax=ax[1,1])\n",
    "ax[0,0].set_title('driving licenses vs number of accidents for 2017', fontsize=10)\n",
    "ax[0,1].set_title('driving licenses vs number of accidents for 2016', fontsize=10)\n",
    "ax[1,0].set_title('driving licenses 2016 vs 2017', fontsize=10)\n",
    "ax[1,1].set_title('number of accidents 2016 vs 2017', fontsize=10)\n",
    "plt.savefig('safasf.png')\n",
    "plt.show()\n"
   ]
  },
  {
   "cell_type": "markdown",
   "metadata": {},
   "source": [
    "#### Plot and interpret boxplots\n",
    "\n",
    "For each numeric variable in the dataframe create a boxplot using Seaborn. Boxplots demonstrate central tendency and spread in variables. In a certain sense, these are somewhat redundant with histograms, but you may be better able to identify clear outliers or differences in IQR, etc.\n",
    "\n",
    "Multiple values can be plotted to a single boxplot as long as they are of the same relative scale (meaning they have similar min/max values).\n",
    "\n",
    "Each boxplot should:\n",
    "- Only include variables of a similar scale\n",
    "- Have clear labels for each variable\n",
    "- Have appropriate titles and labels"
   ]
  },
  {
   "cell_type": "code",
   "execution_count": 65,
   "metadata": {},
   "outputs": [
    {
     "data": {
      "text/html": [
       "<div>\n",
       "<style scoped>\n",
       "    .dataframe tbody tr th:only-of-type {\n",
       "        vertical-align: middle;\n",
       "    }\n",
       "\n",
       "    .dataframe tbody tr th {\n",
       "        vertical-align: top;\n",
       "    }\n",
       "\n",
       "    .dataframe thead th {\n",
       "        text-align: right;\n",
       "    }\n",
       "</style>\n",
       "<table border=\"1\" class=\"dataframe\">\n",
       "  <thead>\n",
       "    <tr style=\"text-align: right;\">\n",
       "      <th></th>\n",
       "      <th>year</th>\n",
       "      <th>region</th>\n",
       "      <th>no_lic</th>\n",
       "      <th>no_acci</th>\n",
       "      <th>no_dead</th>\n",
       "      <th>no_injured</th>\n",
       "    </tr>\n",
       "  </thead>\n",
       "  <tbody>\n",
       "    <tr>\n",
       "      <th>0</th>\n",
       "      <td>2016-01-01</td>\n",
       "      <td>Al-Baha</td>\n",
       "      <td>4614</td>\n",
       "      <td>3618</td>\n",
       "      <td>185</td>\n",
       "      <td>1227</td>\n",
       "    </tr>\n",
       "    <tr>\n",
       "      <th>1</th>\n",
       "      <td>2016-01-01</td>\n",
       "      <td>Al-Jouf</td>\n",
       "      <td>9371</td>\n",
       "      <td>10212</td>\n",
       "      <td>245</td>\n",
       "      <td>920</td>\n",
       "    </tr>\n",
       "    <tr>\n",
       "      <th>2</th>\n",
       "      <td>2016-01-01</td>\n",
       "      <td>Al-Qaseem</td>\n",
       "      <td>9180</td>\n",
       "      <td>25664</td>\n",
       "      <td>397</td>\n",
       "      <td>1513</td>\n",
       "    </tr>\n",
       "    <tr>\n",
       "      <th>3</th>\n",
       "      <td>2016-01-01</td>\n",
       "      <td>Assir</td>\n",
       "      <td>41367</td>\n",
       "      <td>32684</td>\n",
       "      <td>983</td>\n",
       "      <td>2541</td>\n",
       "    </tr>\n",
       "    <tr>\n",
       "      <th>4</th>\n",
       "      <td>2016-01-01</td>\n",
       "      <td>Eastern_Region</td>\n",
       "      <td>142307</td>\n",
       "      <td>101619</td>\n",
       "      <td>1113</td>\n",
       "      <td>4893</td>\n",
       "    </tr>\n",
       "  </tbody>\n",
       "</table>\n",
       "</div>"
      ],
      "text/plain": [
       "        year          region  no_lic  no_acci  no_dead  no_injured\n",
       "0 2016-01-01         Al-Baha    4614     3618      185        1227\n",
       "1 2016-01-01         Al-Jouf    9371    10212      245         920\n",
       "2 2016-01-01       Al-Qaseem    9180    25664      397        1513\n",
       "3 2016-01-01           Assir   41367    32684      983        2541\n",
       "4 2016-01-01  Eastern_Region  142307   101619     1113        4893"
      ]
     },
     "execution_count": 65,
     "metadata": {},
     "output_type": "execute_result"
    }
   ],
   "source": [
    "mergedrtr.head()"
   ]
  },
  {
   "cell_type": "code",
   "execution_count": 66,
   "metadata": {},
   "outputs": [
    {
     "data": {
      "image/png": "[encoded data removed]",
      "text/plain": [
       "<Figure size 432x288 with 1 Axes>"
      ]
     },
     "metadata": {
      "needs_background": "light"
     },
     "output_type": "display_data"
    }
   ],
   "source": [
    "# Code\n",
    "sns.boxplot(data = mergedrtr[['no_acci','no_lic','no_dead','no_injured']])\n",
    "\n",
    "plt.ylabel('frequency')\n",
    "plt.savefig('fname1.png');"
   ]
  },
  {
   "cell_type": "code",
   "execution_count": 67,
   "metadata": {},
   "outputs": [
    {
     "data": {
      "image/png": "[encoded data removed]",
      "text/plain": [
       "<Figure size 432x288 with 1 Axes>"
      ]
     },
     "metadata": {
      "needs_background": "light"
     },
     "output_type": "display_data"
    },
    {
     "data": {
      "image/png": "[encoded data removed]",
      "text/plain": [
       "<Figure size 432x288 with 1 Axes>"
      ]
     },
     "metadata": {
      "needs_background": "light"
     },
     "output_type": "display_data"
    }
   ],
   "source": [
    "mergedrtr.groupby('year').mean().plot(kind='bar'); \n",
    "plt.savefig('ffname.png'); \n",
    "mergedrtr.groupby('region').mean().plot(kind='bar');\n",
    "plt.savefig('fname.png');"
   ]
  },
  {
   "cell_type": "markdown",
   "metadata": {},
   "source": [
    "#### Feel free to do additional plots below\n",
    "*(do research and choose your own chart types & variables)*\n",
    "\n",
    "Are there any additional trends or relationships you haven't explored? Was there something interesting you saw that you'd like to dive further into? It's likely that there are a few more plots you might want to generate to support your narrative and recommendations that you are building toward. **As always, make sure you're interpreting your plots as you go**."
   ]
  },
  {
   "cell_type": "code",
   "execution_count": null,
   "metadata": {},
   "outputs": [],
   "source": []
  },
  {
   "cell_type": "markdown",
   "metadata": {},
   "source": [
    "## Descriptive and Inferential Statistics"
   ]
  },
  {
   "cell_type": "markdown",
   "metadata": {},
   "source": [
    "#### Summarizing Distributions\n",
    "\n",
    "Above, we used pandas `describe` to provide quick summary statistics of our numeric columns. We also demonstrated many visual relationships.\n",
    "\n",
    "As data scientists, having a complete understanding of data is imperative prior to modeling.\n",
    "\n",
    "While we will continue to build our analytic tools, we know that measures of *central tendency*, *spread*, and *shape/skewness* provide a quick summary of distributions.\n",
    "\n",
    "For each variable in your data, summarize the underlying distributions (in words & statistics)\n",
    " - Be thorough in your verbal description of these distributions.\n",
    " - Be sure to back up these summaries with statistics."
   ]
  },
  {
   "cell_type": "markdown",
   "metadata": {},
   "source": [
    " Answers: "
   ]
  },
  {
   "cell_type": "code",
   "execution_count": 68,
   "metadata": {},
   "outputs": [
    {
     "data": {
      "text/plain": [
       "<function matplotlib.pyplot.show(*args, **kw)>"
      ]
     },
     "execution_count": 68,
     "metadata": {},
     "output_type": "execute_result"
    },
    {
     "data": {
      "image/png": "[encoded data removed]",
      "text/plain": [
       "<Figure size 864x864 with 4 Axes>"
      ]
     },
     "metadata": {
      "needs_background": "light"
     },
     "output_type": "display_data"
    }
   ],
   "source": [
    "fig, ax = plt.subplots(ncols=2, nrows=2, figsize=(12, 12))\n",
    "sns.distplot(mergedrtr.no_dead, bins=10, kde=True, ax=ax[0,0])\n",
    "sns.distplot(mergedrtr.no_injured, bins=10, kde=True, ax=ax[0,1])\n",
    "sns.distplot(mergedrtr.no_acci, bins=10, kde=True, ax=ax[1,0])\n",
    "sns.distplot(mergedrtr.no_lic, bins=10, kde=True, ax=ax[1,1])\n",
    "plt.savefig('datafram1.png')\n",
    "plt.show"
   ]
  },
  {
   "cell_type": "markdown",
   "metadata": {},
   "source": [
    "#### We generally assuming that data we sample from a population will be normally distributed. Do we observe this trend?"
   ]
  },
  {
   "cell_type": "markdown",
   "metadata": {},
   "source": [
    "Answer: no ,  as we can see above the datafram are both positivlty skewed and not normally distributed"
   ]
  },
  {
   "cell_type": "markdown",
   "metadata": {},
   "source": [
    "Does This Assumption Hold for:\n",
    "    - Driving Licenses\n",
    "    - Traffic Accidents\n",
    "Explain your answers for each distribution and how you think this will affect estimates made from these data."
   ]
  },
  {
   "cell_type": "markdown",
   "metadata": {},
   "source": [
    "Answer: yes,both positivlty skewed."
   ]
  },
  {
   "cell_type": "markdown",
   "metadata": {},
   "source": [
    "#### Statistical Evaluation of Distributions \n",
    "\n",
    "**If you feel it's appropriate**, using methods we discussed in class, run hypothesis tests to compare variables of interest in our dataset. "
   ]
  },
  {
   "cell_type": "code",
   "execution_count": 69,
   "metadata": {},
   "outputs": [],
   "source": [
    "# Code"
   ]
  },
  {
   "cell_type": "markdown",
   "metadata": {},
   "source": [
    "## Outside Research"
   ]
  },
  {
   "cell_type": "markdown",
   "metadata": {},
   "source": [
    "Based upon your observations, choose **three** regions that demonstrate interesting trends in the number of driving licenses and traffic accidents. Spend some time doing outside research on provincial and central policies that might influence these rates, and summarize your findings below. **Feel free to go back and create new plots that highlight these states of interest**. If you bring in any outside tables or charts, make sure you are explicit about having borrowed them. If you quote any text, make sure that it renders as being quoted. (Make sure that you cite your sources -- check with you local instructor for citation preferences)."
   ]
  },
  {
   "cell_type": "markdown",
   "metadata": {},
   "source": [
    "Answer:  Riyadh , makkah and Eastern_Region have the highest number of driving licenses and traffic accidents and we can see this in the plot befor"
   ]
  },
  {
   "cell_type": "markdown",
   "metadata": {},
   "source": [
    "## Conclusions and Recommendations"
   ]
  },
  {
   "cell_type": "markdown",
   "metadata": {},
   "source": [
    "- Based on your exploration of the data, what are you key takeaways and recommendations?\n",
    "- Are there additional data you desire that would better inform your investigations?"
   ]
  },
  {
   "cell_type": "markdown",
   "metadata": {},
   "source": [
    "Answer: Based on the data we have , the more driving licenses we have the more traffic accidents we will get. how to fix this.\n",
    "##### By making the driver more Aware of Traffic laws.\n",
    "##### apply more advanced Automated monitoring like saher "
   ]
  },
  {
   "cell_type": "code",
   "execution_count": null,
   "metadata": {},
   "outputs": [],
   "source": []
  }
 ],
 "metadata": {
  "anaconda-cloud": {},
  "kernelspec": {
   "display_name": "Python 3",
   "language": "python",
   "name": "python3"
  },
  "language_info": {
   "codemirror_mode": {
    "name": "ipython",
    "version": 3
   },
   "file_extension": ".py",
   "mimetype": "text/x-python",
   "name": "python",
   "nbconvert_exporter": "python",
   "pygments_lexer": "ipython3",
   "version": "3.7.6"
  }
 },
 "nbformat": 4,
 "nbformat_minor": 2
}
